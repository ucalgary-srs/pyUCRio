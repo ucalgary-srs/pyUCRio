{
 "cells": [
  {
   "cell_type": "code",
   "execution_count": 12,
   "metadata": {},
   "outputs": [],
   "source": [
    "import datetime\n",
    "import pprint\n",
    "import pyucrio\n",
    "\n",
    "rio = pyucrio.PyUCRio()"
   ]
  },
  {
   "cell_type": "markdown",
   "metadata": {},
   "source": [
    "# Downloading data\n",
    "\n",
    "PyUCRio allows you to download data for a given dataset, time frame, and optionally the site. A progress bar is shown by default, and it can be disabled or modified using the optional parameters. The output path of the downloaded data can be modified when you initialize the `pyucrio.PyUCRio()` object. We show an example of this near the bottom of this crib sheet.\n",
    "\n",
    "To figure out the dataset name that we want to download data for, we can use the `rio.data.list_datasets()` function, or navigate to the [Dataset Descriptions](https://data.phys.ucalgary.ca/about_datasets) page and dive into a particular instrument array page.\n",
    "\n",
    "Below we are going to download some NORSTAR riometer data. We will use the `NORSTAR_RIOMETER_K0_TXT` dataset name, and the `start`, `end`, and `site_uid` parameters to filter further."
   ]
  },
  {
   "cell_type": "code",
   "execution_count": 3,
   "metadata": {},
   "outputs": [
    {
     "data": {
      "application/vnd.jupyter.widget-view+json": {
       "model_id": "091325bf7d8c48e39476b335a630f220",
       "version_major": 2,
       "version_minor": 0
      },
      "text/plain": [
       "Downloading NORSTAR_RIOMETER_K0_TXT files:   0%|          | 0.00/1.61M [00:00<?, ?B/s]"
      ]
     },
     "metadata": {},
     "output_type": "display_data"
    }
   ],
   "source": [
    "# download a few days of NORSTAR riometer data from Churchill\n",
    "dataset_name = \"NORSTAR_RIOMETER_K0_TXT\"\n",
    "start_dt = datetime.datetime(2021, 11, 3, 0, 0)\n",
    "end_dt = datetime.datetime(2021, 11, 5, 23, 59)\n",
    "site_uid = \"chur\"\n",
    "r = rio.data.ucalgary.download(dataset_name, start_dt, end_dt, site_uid=site_uid)"
   ]
  },
  {
   "cell_type": "code",
   "execution_count": 4,
   "metadata": {},
   "outputs": [
    {
     "name": "stdout",
     "output_type": "stream",
     "text": [
      "FileListingResponse:\n",
      "  count             : 3\n",
      "  dataset           : Dataset(name=NORSTAR_RIOMETER_K0_TXT, short_description='NORSTAR Single Frequency Riometers K0 raw data, in ASCII format', provider='UCalgary', level='L0', doi_details='https://commons.datacite.org/doi.org/10.11575/afyx-m516', ...)\n",
      "  filenames         : [3 filenames]\n",
      "  output_root_path  : /home/darrenc/pyucrio_data/NORSTAR_RIOMETER_K0_TXT\n",
      "  total_bytes       : 0\n"
     ]
    }
   ],
   "source": [
    "# view information about the downloaded data\n",
    "r.pretty_print()"
   ]
  },
  {
   "cell_type": "code",
   "execution_count": 5,
   "metadata": {},
   "outputs": [
    {
     "data": {
      "application/vnd.jupyter.widget-view+json": {
       "model_id": "b70e82b9aa0b49808f2eee0e596a440a",
       "version_major": 2,
       "version_minor": 0
      },
      "text/plain": [
       "Downloading NORSTAR_RIOMETER_K0_TXT files:   0%|          | 0.00/17.7M [00:00<?, ?B/s]"
      ]
     },
     "metadata": {},
     "output_type": "display_data"
    }
   ],
   "source": [
    "# download a couple days of data from all NORSTAR riometer sites\n",
    "dataset_name = \"NORSTAR_RIOMETER_K0_TXT\"\n",
    "start_dt = datetime.datetime(2021, 11, 3, 0, 0)\n",
    "end_dt = datetime.datetime(2021, 11, 5, 23, 59)\n",
    "_ = rio.data.ucalgary.download(dataset_name, start_dt, end_dt)"
   ]
  },
  {
   "cell_type": "markdown",
   "metadata": {},
   "source": [
    "## Changing the download location\n",
    "\n",
    "To change where data is downloaded to, you can adjust an attribute in the PyUCRio() class that was initialized at the beginning of the code.\n",
    "\n",
    "Note that the below code is commented out on purpose here since we just want to show how to do this, and not actually do it."
   ]
  },
  {
   "cell_type": "code",
   "execution_count": 6,
   "metadata": {},
   "outputs": [],
   "source": [
    "# NOTE: the path you set can be a regular string path (nice for Linux and Mac)\n",
    "# or a pathlib Path() object (nice for Windows).\n",
    "\n",
    "#------------------\n",
    "# rio.download_output_root_path = \"some path\"\n",
    "#\n",
    "# import pathlib\n",
    "# rio.download_output_root_path = Path(\"some path\")"
   ]
  },
  {
   "cell_type": "markdown",
   "metadata": {},
   "source": [
    "## Customizing the progress bar\n",
    "\n",
    "You also have control over the progress bar a bit, where certain methods have additional progress bar parameters to help you customize them as you'd like.\n",
    "\n",
    "For the `download()` method, the following are available to you:\n",
    "\n",
    "- `progress_bar_disable`: Disable the progress bar,\n",
    "- `progress_bar_ncols`: Set the width of the progress bar,\n",
    "- `progress_bar_ascii`: Change the ASCII character used in the progress bar,\n",
    "- `progress_bar_desc`: Change the description prefix for the progress bar,\n",
    "\n",
    "The `progress_bar_*` parameters can be used to enable/disable/adjust the progress bar. Excluding the `progress_bar_disable` parameter, all others are straight pass-throughs to the tqdm progress bar function. The `progress_bar_ncols` parameter allows for adjusting the width. The `progress_bar_ascii` parameter allows for adjusting the appearance of the progress bar. And the `progress_bar_desc` parameter allows for adjusting the description at the beginning of the progress bar. Further details can be found on the [tqdm documentation](https://tqdm.github.io/docs/tqdm/#tqdm-objects).\n",
    "\n",
    "You can also change the progress bar style in a more global manner, using the `rio.progress_bar_backend` parameter.\n",
    "\n",
    "Note that the below code is commented out on purpose here since we just want to show how to do this, and not actually do it."
   ]
  },
  {
   "cell_type": "code",
   "execution_count": 7,
   "metadata": {},
   "outputs": [],
   "source": [
    "# disable the progress bar in a download() call\n",
    "# -----------------------------------------------\n",
    "# r = rio.data.ucalgary.download(dataset_name, start_dt, end_dt, progress_bar_disable=True)\n",
    "\n",
    "# globally set the progress bar style\n",
    "# --------------------------------------\n",
    "# rio.progress_bar_backend = \"standard\"\n",
    "# rio.progress_bar_backend = \"notebook\"\n",
    "# rio.progress_bar_backend = \"auto\"  # the default\n",
    "\n",
    "\n",
    "# NOTE: Just a heads up, if you're working in Spyder, the tqdm progress bar PyUCRio uses doesn't \n",
    "# get detected properly. So setting the progress bar to 'standard' is recommended in this circumstance."
   ]
  },
  {
   "cell_type": "markdown",
   "metadata": {},
   "source": [
    "# Read data\n",
    "\n",
    "Downloading data is only one part of the process. To allow you to not have to repeatedly download data, the `download()` and `read()` functions are split into two processes. \n",
    "\n",
    "The data reading routines are simple at the core. They take in a list of filenames on your computer, read in those files, and return the results back as an object. Be sure to pass in only one type of data at a time, otherwise the read routine will get rather confused!\n",
    "\n",
    "The advantage of this is that the read function just needs filenames. You can download data to any storage medium, and manually leverage `glob` like functions to get filenames. This can be beneficial if you don't have an internet connection at the time, but have already downloaded data. Or, you can simply run the `download()` function repeatedly; it will not re-download data if you already have it, unless the `overwrite` parameter is enabled.\n",
    "\n",
    "There are two methods that can be used for reading data:\n",
    "\n",
    "1) using the generic method\n",
    "2) using a specific dataset read function\n",
    "\n",
    "The generic method is the recommended way as it is simpler. However, if more control is wanted then you can use the specific read functions directly. The generic method simply uses the dataset name to determine which specific read function to use."
   ]
  },
  {
   "cell_type": "code",
   "execution_count": 8,
   "metadata": {},
   "outputs": [
    {
     "name": "stdout",
     "output_type": "stream",
     "text": [
      "Data(data=[3 RiometerData objects], timestamp=[3 datetimes], metadata=[3 dictionaries], problematic_files=[], calibrated_data=None, dataset=Dataset(name=NORSTAR_RIOMETER_K0_TXT, short_description='NORSTAR Single Fre...))\n",
      "\n",
      "Data:\n",
      "  data               : [3 RiometerData objects]\n",
      "  timestamp          : [3 datetimes]\n",
      "  metadata           : [3 dictionaries]\n",
      "  problematic_files  : []\n",
      "  calibrated_data    : None\n",
      "  dataset            : Dataset(name=NORSTAR_RIOMETER_K0_TXT, short_description='NORSTAR Single Fre...)\n"
     ]
    }
   ],
   "source": [
    "# we will show the generic method first, since it is the easiest way\n",
    "#\n",
    "# NOTE: we are reading the day of data from Churchill that we downloaded \n",
    "# earlier, using 2 parallel processes to improve performance\n",
    "data = rio.data.ucalgary.read(r.dataset, r.filenames, n_parallel=2)\n",
    "\n",
    "print(data)\n",
    "print()\n",
    "\n",
    "data.pretty_print()"
   ]
  },
  {
   "cell_type": "code",
   "execution_count": 9,
   "metadata": {},
   "outputs": [
    {
     "name": "stdout",
     "output_type": "stream",
     "text": [
      "Data(data=[3 RiometerData objects], timestamp=[3 datetimes], metadata=[3 dictionaries], problematic_files=[], calibrated_data=None, dataset=Dataset(name=NORSTAR_RIOMETER_K0_TXT, short_description='NORSTAR Single Fre...))\n",
      "\n",
      "Data:\n",
      "  data               : [3 RiometerData objects]\n",
      "  timestamp          : [3 datetimes]\n",
      "  metadata           : [3 dictionaries]\n",
      "  problematic_files  : []\n",
      "  calibrated_data    : None\n",
      "  dataset            : Dataset(name=NORSTAR_RIOMETER_K0_TXT, short_description='NORSTAR Single Fre...)\n"
     ]
    }
   ],
   "source": [
    "# Since we know we're reading in NORSTAR riometer k0 data, we can also use \n",
    "# the specific read routine. Use these specific read functions if you want\n",
    "# more control than the simpler read() function.\n",
    "data = rio.data.ucalgary.readers.read_norstar_riometer(r.filenames, n_parallel=2, dataset=r.dataset)\n",
    "\n",
    "print(data)\n",
    "print()\n",
    "\n",
    "data.pretty_print()"
   ]
  },
  {
   "cell_type": "markdown",
   "metadata": {},
   "source": [
    "# Reading portions of data\n",
    "\n",
    "You can use the `start_time` and `end_time` parameters to help control data reading to certain periods of time, even though you pass in files with more data in them.\n",
    "\n",
    "Let's have a look at an example of this."
   ]
  },
  {
   "cell_type": "code",
   "execution_count": 21,
   "metadata": {},
   "outputs": [
    {
     "data": {
      "application/vnd.jupyter.widget-view+json": {
       "model_id": "4d8b55bd1c7f413685c93f290dc88ba9",
       "version_major": 2,
       "version_minor": 0
      },
      "text/plain": [
       "Downloading NORSTAR_RIOMETER_K2_TXT files:   0%|          | 0.00/3.81M [00:00<?, ?B/s]"
      ]
     },
     "metadata": {},
     "output_type": "display_data"
    },
    {
     "name": "stdout",
     "output_type": "stream",
     "text": [
      "Data(data=[2 RiometerData objects], timestamp=[2 datetimes], metadata=[2 dictionaries], problematic_files=[], calibrated_data=None, dataset=Dataset(name=NORSTAR_RIOMETER_K2_TXT, short_description='NORSTAR Single Fre...))\n",
      "\n",
      "Data:\n",
      "  data               : [2 RiometerData objects]\n",
      "  timestamp          : [2 datetimes]\n",
      "  metadata           : [2 dictionaries]\n",
      "  problematic_files  : []\n",
      "  calibrated_data    : None\n",
      "  dataset            : Dataset(name=NORSTAR_RIOMETER_K2_TXT, short_description='NORSTAR Single Fre...)\n",
      "\n",
      "RiometerData:\n",
      "  timestamp   : array(dims=(8640,), dtype=object)\n",
      "  raw_signal  : array(dims=(8640,), dtype=float32)\n",
      "  absorption  : array(dims=(8640,), dtype=float32)\n",
      "\n",
      "array([datetime.datetime(2008, 3, 2, 12, 0),\n",
      "       datetime.datetime(2008, 3, 2, 12, 0, 5),\n",
      "       datetime.datetime(2008, 3, 2, 12, 0, 10),\n",
      "       datetime.datetime(2008, 3, 2, 12, 0, 15),\n",
      "       datetime.datetime(2008, 3, 2, 12, 0, 20)], dtype=object)\n",
      "\n",
      "array([datetime.datetime(2008, 3, 3, 11, 58, 40),\n",
      "       datetime.datetime(2008, 3, 3, 11, 58, 45),\n",
      "       datetime.datetime(2008, 3, 3, 11, 58, 50),\n",
      "       datetime.datetime(2008, 3, 3, 11, 58, 55),\n",
      "       datetime.datetime(2008, 3, 3, 11, 59)], dtype=object)\n"
     ]
    }
   ],
   "source": [
    "# download a couple days of data from the Churchill riometer site\n",
    "dataset_name = \"NORSTAR_RIOMETER_K2_TXT\"\n",
    "start_dt = datetime.datetime(2008, 3, 1, 0, 0)\n",
    "end_dt = datetime.datetime(2008, 3, 5, 23, 59)\n",
    "site_uid = \"chur\"\n",
    "r = rio.data.ucalgary.download(dataset_name, start_dt, end_dt, site_uid=site_uid)\n",
    "\n",
    "# now let's only read in a bit of that data\n",
    "start_dt = datetime.datetime(2008, 3, 2, 12, 0)\n",
    "end_dt = datetime.datetime(2008, 3, 3, 11, 59)\n",
    "data = rio.data.ucalgary.read(r.dataset, r.filenames, n_parallel=2, start_time=start_dt, end_time=end_dt)\n",
    "\n",
    "# show the data objects\n",
    "print(data)\n",
    "print()\n",
    "data.pretty_print()\n",
    "print()\n",
    "data.data[0].pretty_print()\n",
    "\n",
    "# show the first and last 5 timestamps\n",
    "print()\n",
    "pprint.pprint(data.data[0].timestamp[0:5])\n",
    "print()\n",
    "pprint.pprint(data.data[-1].timestamp[-5:])"
   ]
  },
  {
   "cell_type": "markdown",
   "metadata": {},
   "source": [
    "# Managing downloaded data\n",
    "\n",
    "Managing data is hard! For the riometer data, the biggest concern to keep in mind is the available storage. The riometer data is quite small in comparison to other datasets (like All-sky Imager data used in PyAuroraX), but is still something to pay attention to. \n",
    "\n",
    "To help with this, we have some utility functions at your fingertips. The `show_data_usage()` function can help show you how much data is on your computer in PyUCRio's download output root path. Then `purge_download_output_root_path()` can delete all the data in that directory."
   ]
  },
  {
   "cell_type": "code",
   "execution_count": 13,
   "metadata": {},
   "outputs": [
    {
     "name": "stdout",
     "output_type": "stream",
     "text": [
      "Dataset name              Size   \n",
      "=================================\n",
      "NORSTAR_RIOMETER_K0_TXT   17.7 MB\n",
      "SWAN_HSR_K0_H5            7.4 MB \n",
      "NORSTAR_RIOMETER_K2_TXT   2.3 MB \n",
      "\n",
      "Total size: 27.4 MB\n"
     ]
    }
   ],
   "source": [
    "# to view the amount of data that is currently downloaded, do the following\n",
    "rio.show_data_usage()"
   ]
  },
  {
   "cell_type": "code",
   "execution_count": 14,
   "metadata": {},
   "outputs": [
    {
     "name": "stdout",
     "output_type": "stream",
     "text": [
      "{'NORSTAR_RIOMETER_K0_TXT': {'path_obj': PosixPath('/home/darrenc/pyucrio_data/NORSTAR_RIOMETER_K0_TXT'),\n",
      "                             'size_bytes': 17700276,\n",
      "                             'size_str': '17.7 MB'},\n",
      " 'NORSTAR_RIOMETER_K2_TXT': {'path_obj': PosixPath('/home/darrenc/pyucrio_data/NORSTAR_RIOMETER_K2_TXT'),\n",
      "                             'size_bytes': 2283291,\n",
      "                             'size_str': '2.3 MB'},\n",
      " 'SWAN_HSR_K0_H5': {'path_obj': PosixPath('/home/darrenc/pyucrio_data/SWAN_HSR_K0_H5'),\n",
      "                    'size_bytes': 7412137,\n",
      "                    'size_str': '7.4 MB'}}\n"
     ]
    }
   ],
   "source": [
    "# alternatively, you can get the data usage information returned as a dictionary\n",
    "data_usage_dict = rio.show_data_usage(return_dict=True)\n",
    "pprint.pprint(data_usage_dict)"
   ]
  },
  {
   "cell_type": "code",
   "execution_count": 15,
   "metadata": {},
   "outputs": [],
   "source": [
    "# to clean up all data we've downloaded, you can delete\n",
    "# the data using a helper function, or manually delete\n",
    "# it yourself\n",
    "#\n",
    "# delete all data\n",
    "rio.purge_download_output_root_path()\n",
    "\n",
    "# delete data for single specific dataset\n",
    "# aurorax.purge_download_output_root_path(dataset_name=\"NORSTAR_RIOMETER_K0_TXT\")\n"
   ]
  },
  {
   "cell_type": "code",
   "execution_count": null,
   "metadata": {},
   "outputs": [],
   "source": []
  }
 ],
 "metadata": {
  "kernelspec": {
   "display_name": "pyucrio39",
   "language": "python",
   "name": "python3"
  },
  "language_info": {
   "codemirror_mode": {
    "name": "ipython",
    "version": 3
   },
   "file_extension": ".py",
   "mimetype": "text/x-python",
   "name": "python",
   "nbconvert_exporter": "python",
   "pygments_lexer": "ipython3",
   "version": "3.9.20"
  }
 },
 "nbformat": 4,
 "nbformat_minor": 2
}
