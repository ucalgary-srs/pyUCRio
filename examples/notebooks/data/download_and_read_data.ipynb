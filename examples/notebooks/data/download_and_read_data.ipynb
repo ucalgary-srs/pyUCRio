{
 "cells": [
  {
   "cell_type": "code",
   "execution_count": 12,
   "metadata": {},
   "outputs": [
    {
     "data": {
      "text/html": [
       "<style>\n",
       ".cell-output-ipywidget-background {\n",
       "    background-color: transparent !important;\n",
       "}\n",
       ":root {\n",
       "    --jp-widgets-color: var(--vscode-editor-foreground);\n",
       "    --jp-widgets-font-size: var(--vscode-editor-font-size);\n",
       "}  \n",
       "</style>\n"
      ],
      "text/plain": [
       "<IPython.core.display.HTML object>"
      ]
     },
     "metadata": {},
     "output_type": "display_data"
    }
   ],
   "source": [
    "%%html\n",
    "<style>\n",
    ".cell-output-ipywidget-background {\n",
    "    background-color: transparent !important;\n",
    "}\n",
    ":root {\n",
    "    --jp-widgets-color: var(--vscode-editor-foreground);\n",
    "    --jp-widgets-font-size: var(--vscode-editor-font-size);\n",
    "}  \n",
    "</style>"
   ]
  },
  {
   "cell_type": "code",
   "execution_count": 2,
   "metadata": {},
   "outputs": [
    {
     "name": "stderr",
     "output_type": "stream",
     "text": [
      "/opt/miniconda/envs/pyucrio39/lib/python3.9/site-packages/tqdm/auto.py:21: TqdmWarning: IProgress not found. Please update jupyter and ipywidgets. See https://ipywidgets.readthedocs.io/en/stable/user_install.html\n",
      "  from .autonotebook import tqdm as notebook_tqdm\n"
     ]
    }
   ],
   "source": [
    "import datetime\n",
    "import pprint\n",
    "import pyucrio\n",
    "\n",
    "rio = pyucrio.PyUCRio()"
   ]
  },
  {
   "cell_type": "markdown",
   "metadata": {},
   "source": [
    "# Download data"
   ]
  },
  {
   "cell_type": "code",
   "execution_count": 3,
   "metadata": {},
   "outputs": [
    {
     "name": "stdout",
     "output_type": "stream",
     "text": [
      "Name                                     Provider   Level   DOI Details                                                             Short Description                                                   \n",
      "========================================================================================================================================================================================================\n",
      "NORSTAR_RIOMETER_K0_TXT                  UCalgary   L0      Coming soon                                                             NORSTAR Single Frequency Riometers K0 raw data, in ASCII format     \n",
      "NORSTAR_RIOMETER_K2_TXT                  UCalgary   L2      Coming soon                                                             NORSTAR Single Frequency Riometers K2 baselined data, in ASCII      \n",
      "                                                                                                                                    format                                                              \n",
      "REGO_CALIBRATION_FLATFIELD_IDLSAV        UCalgary   L3      https://commons.datacite.org/doi.org/10.11575/z7x6-5c42                 REGO All Sky Imagers Flatfield calibration data (IDL save format)   \n",
      "REGO_CALIBRATION_RAYLEIGHS_IDLSAV        UCalgary   L3      https://commons.datacite.org/doi.org/10.11575/z7x6-5c42                 REGO All Sky Imagers Rayleighs calibration data (IDL save format)   \n",
      "REGO_DAILY_KEOGRAM_JPG                   UCalgary   L2      https://commons.datacite.org/doi.org/10.11575/z7x6-5c42                 REGO All Sky Imagers daily keogram summary product (JPG format)     \n",
      "REGO_DAILY_KEOGRAM_PGM                   UCalgary   L2      https://commons.datacite.org/doi.org/10.11575/z7x6-5c42                 REGO All Sky Imagers daily keogram summary product (PGM format)     \n",
      "REGO_DAILY_KEOGRAM_PNG                   UCalgary   L2      https://commons.datacite.org/doi.org/10.11575/z7x6-5c42                 REGO All Sky Imagers daily keogram summary product (PNG format)     \n",
      "REGO_DAILY_MONTAGE_JPG                   UCalgary   L2      https://commons.datacite.org/doi.org/10.11575/z7x6-5c42                 REGO All Sky Imagers daily montage summary product (JPG format)     \n",
      "REGO_DAILY_MONTAGE_PGM                   UCalgary   L2      https://commons.datacite.org/doi.org/10.11575/z7x6-5c42                 REGO All Sky Imagers daily montage summary product (PGM format)     \n",
      "REGO_DAILY_MONTAGE_PNG                   UCalgary   L2      https://commons.datacite.org/doi.org/10.11575/z7x6-5c42                 REGO All Sky Imagers daily montage summary product (PNG format)     \n",
      "REGO_GRID_MOSV001                        UCalgary   L3      https://commons.datacite.org/doi.org/10.11575/z7x6-5c42                 REGO All Sky Imagers MOSv001 verified grid files (corner subtracted,\n",
      "                                                                                                                                    flatfield corrected, rayleighs converted, intensity grid priority)  \n",
      "REGO_HOURLY_KEOGRAM_JPG                  UCalgary   L2      https://commons.datacite.org/doi.org/10.11575/z7x6-5c42                 REGO All Sky Imagers hourly keogram summary product (JPG format)    \n",
      "REGO_HOURLY_KEOGRAM_PGM                  UCalgary   L2      https://commons.datacite.org/doi.org/10.11575/z7x6-5c42                 REGO All Sky Imagers hourly keogram summary product (PGM format)    \n",
      "REGO_HOURLY_KEOGRAM_PNG                  UCalgary   L2      https://commons.datacite.org/doi.org/10.11575/z7x6-5c42                 REGO All Sky Imagers hourly keogram summary product (PNG format)    \n",
      "REGO_HOURLY_MONTAGE_JPG                  UCalgary   L2      https://commons.datacite.org/doi.org/10.11575/z7x6-5c42                 REGO All Sky Imagers hourly montage summary product (JPG format)    \n",
      "REGO_HOURLY_MONTAGE_PGM                  UCalgary   L2      https://commons.datacite.org/doi.org/10.11575/z7x6-5c42                 REGO All Sky Imagers hourly montage summary product (PGM format)    \n",
      "REGO_HOURLY_MONTAGE_PNG                  UCalgary   L2      https://commons.datacite.org/doi.org/10.11575/z7x6-5c42                 REGO All Sky Imagers hourly montage summary product (PNG format)    \n",
      "REGO_RAW                                 UCalgary   L0      https://commons.datacite.org/doi.org/10.11575/z7x6-5c42                 REGO All Sky Imagers 3-sec raw data                                 \n",
      "REGO_SKYMAP_IDLSAV                       UCalgary   L3      https://commons.datacite.org/doi.org/10.11575/z7x6-5c42                 REGO All Sky Imagers skymap data (IDL save format)                  \n",
      "SWAN_HSR_K0_H5                           UCalgary   L0      Coming soon                                                             SWAN Hyper Spectral Riometer (HSR) K0 raw data, in HDF5 format      \n",
      "SWAN_HSR_K0_SUMMARY_PLOT_JPG             UCalgary   L0      Coming soon                                                             SWAN Hyper Spectral Riometer (HSR) K0 raw data summary plots, in JPG\n",
      "                                                                                                                                    format                                                              \n",
      "THEMIS_ASI_DAILY_KEOGRAM_JPG             UCalgary   L2      None                                                                    THEMIS All Sky Imagers daily keogram summary product (JPG format)   \n",
      "THEMIS_ASI_DAILY_KEOGRAM_PGM             UCalgary   L2      None                                                                    THEMIS All Sky Imagers daily keogram summary product (PGM format)   \n",
      "THEMIS_ASI_DAILY_MONTAGE_JPG             UCalgary   L2      None                                                                    THEMIS All Sky Imagers daily montage summary product (JPG format)   \n",
      "THEMIS_ASI_DAILY_MONTAGE_PGM             UCalgary   L2      None                                                                    THEMIS All Sky Imagers daily montage summary product (PGM format)   \n",
      "THEMIS_ASI_GRID_MOSU001                  UCalgary   L3      None                                                                    THEMIS All Sky Imagers MOSu001 unverified grid files (corner        \n",
      "                                                                                                                                    subtracted, intensity grid priority, ML cloud detection)            \n",
      "THEMIS_ASI_GRID_MOSV001                  UCalgary   L3      None                                                                    THEMIS All Sky Imagers MOSv001 verified grid files (corner          \n",
      "                                                                                                                                    subtracted, intensity grid priority)                                \n",
      "THEMIS_ASI_HOURLY_AVERAGE_JPG            UCalgary   L2      None                                                                    THEMIS All Sky Imagers hourly average summary product (JPG format)  \n",
      "THEMIS_ASI_HOURLY_AVERAGE_PGM            UCalgary   L2      None                                                                    THEMIS All Sky Imagers hourly average summary product (PGM format)  \n",
      "THEMIS_ASI_HOURLY_KEOGRAM_JPG            UCalgary   L2      None                                                                    THEMIS All Sky Imagers hourly keogram summary product (JPG format)  \n",
      "THEMIS_ASI_HOURLY_KEOGRAM_PGM            UCalgary   L2      None                                                                    THEMIS All Sky Imagers hourly keogram summary product (PGM format)  \n",
      "THEMIS_ASI_HOURLY_MONTAGE_JPG            UCalgary   L2      None                                                                    THEMIS All Sky Imagers hourly montage summary product (JPG format)  \n",
      "THEMIS_ASI_HOURLY_MONTAGE_PGM            UCalgary   L2      None                                                                    THEMIS All Sky Imagers hourly montage summary product (PGM format)  \n",
      "THEMIS_ASI_RAW                           UCalgary   L0      None                                                                    THEMIS All Sky Imagers 3-sec raw data                               \n",
      "THEMIS_ASI_RAW_ROW2                      UCalgary   L0      None                                                                    THEMIS All Sky Imagers raw row2 data                                \n",
      "THEMIS_ASI_RAW_WIDE                      UCalgary   L0      None                                                                    THEMIS All Sky Imagers raw wide data                                \n",
      "THEMIS_ASI_SKYMAP_IDLSAV                 UCalgary   L3      None                                                                    THEMIS All Sky Imagers skymap data (IDL save format)                \n",
      "THEMIS_ASI_THUMB32                       UCalgary   L1A     None                                                                    THEMIS All Sky Imagers thumb32 data                                 \n",
      "THEMIS_ASI_VEC1024                       UCalgary   L1A     None                                                                    THEMIS All Sky Imagers vec1024 data                                 \n",
      "TREX_BLUE_CALIBRATION_FLATFIELD_IDLSAV   UCalgary   L3      https://commons.datacite.org/doi.org/10.11575/80pf-0p02                 TREx Blueline All Sky Imagers Flatfield calibration data (IDL save  \n",
      "                                                                                                                                    format)                                                             \n",
      "TREX_BLUE_CALIBRATION_RAYLEIGHS_IDLSAV   UCalgary   L3      https://commons.datacite.org/doi.org/10.11575/80pf-0p02                 TREx Blueline All Sky Imagers Rayleighs calibration data (IDL save  \n",
      "                                                                                                                                    format)                                                             \n",
      "TREX_BLUE_DAILY_KEOGRAM_PGM              UCalgary   L2      https://commons.datacite.org/doi.org/10.11575/80pf-0p02                 TREx Blueline All Sky Imagers daily keogram summary product (PGM    \n",
      "                                                                                                                                    format)                                                             \n",
      "TREX_BLUE_DAILY_KEOGRAM_PNG              UCalgary   L2      https://commons.datacite.org/doi.org/10.11575/80pf-0p02                 TREx Blueline All Sky Imagers daily keogram summary product (PNG    \n",
      "                                                                                                                                    format)                                                             \n",
      "TREX_BLUE_DAILY_MONTAGE_PGM              UCalgary   L2      https://commons.datacite.org/doi.org/10.11575/80pf-0p02                 TREx Blueline All Sky Imagers daily montage summary product (PGM    \n",
      "                                                                                                                                    format)                                                             \n",
      "TREX_BLUE_DAILY_MONTAGE_PNG              UCalgary   L2      https://commons.datacite.org/doi.org/10.11575/80pf-0p02                 TREx Blueline All Sky Imagers daily montage summary product (PNG    \n",
      "                                                                                                                                    format)                                                             \n",
      "TREX_BLUE_GRID_MOSV001                   UCalgary   L3      https://commons.datacite.org/doi.org/10.11575/80pf-0p02                 TREx Blueline All Sky Imagers MOSv001 verified grid files (raw data,\n",
      "                                                                                                                                    intensity grid priority)                                            \n",
      "TREX_BLUE_HOURLY_KEOGRAM_PGM             UCalgary   L2      https://commons.datacite.org/doi.org/10.11575/80pf-0p02                 TREx Blueline All Sky Imagers hourly keogram summary product (PGM   \n",
      "                                                                                                                                    format)                                                             \n",
      "TREX_BLUE_HOURLY_KEOGRAM_PNG             UCalgary   L2      https://commons.datacite.org/doi.org/10.11575/80pf-0p02                 TREx Blueline All Sky Imagers hourly keogram summary product (PNG   \n",
      "                                                                                                                                    format)                                                             \n",
      "TREX_BLUE_HOURLY_MONTAGE_PGM             UCalgary   L2      https://commons.datacite.org/doi.org/10.11575/80pf-0p02                 TREx Blueline All Sky Imagers hourly montage summary product (PGM   \n",
      "                                                                                                                                    format)                                                             \n",
      "TREX_BLUE_HOURLY_MONTAGE_PNG             UCalgary   L2      https://commons.datacite.org/doi.org/10.11575/80pf-0p02                 TREx Blueline All Sky Imagers hourly montage summary product (PNG   \n",
      "                                                                                                                                    format)                                                             \n",
      "TREX_BLUE_RAW                            UCalgary   L0      https://commons.datacite.org/doi.org/10.11575/80pf-0p02                 TREx Blueline All Sky Imagers 3-sec raw data                        \n",
      "TREX_BLUE_SKYMAP_IDLSAV                  UCalgary   L3      https://commons.datacite.org/doi.org/10.11575/80pf-0p02                 TREx Blueline All Sky Imagers skymap data (IDL save format)         \n",
      "TREX_NIR_CALIBRATION_FLATFIELD_IDLSAV    UCalgary   L3      https://commons.datacite.org/doi.org/10.11575/98w7-jp47                 TREx NIR All Sky Imagers Flatfield calibration data (IDL save       \n",
      "                                                                                                                                    format)                                                             \n",
      "TREX_NIR_CALIBRATION_RAYLEIGHS_IDLSAV    UCalgary   L3      https://commons.datacite.org/doi.org/10.11575/98w7-jp47                 TREx NIR All Sky Imagers Rayleighs calibration data (IDL save       \n",
      "                                                                                                                                    format)                                                             \n",
      "TREX_NIR_DAILY_KEOGRAM_PGM               UCalgary   L2      https://commons.datacite.org/doi.org/10.11575/98w7-jp47                 TREx NIR All Sky Imagers daily keogram summary product (PGM format) \n",
      "TREX_NIR_DAILY_KEOGRAM_PNG               UCalgary   L2      https://commons.datacite.org/doi.org/10.11575/98w7-jp47                 TREx NIR All Sky Imagers daily keogram summary product (PNG format) \n",
      "TREX_NIR_DAILY_MONTAGE_PGM               UCalgary   L2      https://commons.datacite.org/doi.org/10.11575/98w7-jp47                 TREx NIR All Sky Imagers daily montage summary product (PGM format) \n",
      "TREX_NIR_DAILY_MONTAGE_PNG               UCalgary   L2      https://commons.datacite.org/doi.org/10.11575/98w7-jp47                 TREx NIR All Sky Imagers daily montage summary product (PNG format) \n",
      "TREX_NIR_GRID_MOSV001                    UCalgary   L3      https://commons.datacite.org/doi.org/10.11575/98w7-jp47                 TREx NIR All Sky Imagers MOSv001 verified grid files (raw data,     \n",
      "                                                                                                                                    intensity grid priority)                                            \n",
      "TREX_NIR_HOURLY_KEOGRAM_PGM              UCalgary   L2      https://commons.datacite.org/doi.org/10.11575/98w7-jp47                 TREx NIR All Sky Imagers hourly keogram summary product (PGM format)\n",
      "TREX_NIR_HOURLY_KEOGRAM_PNG              UCalgary   L2      https://commons.datacite.org/doi.org/10.11575/98w7-jp47                 TREx NIR All Sky Imagers hourly keogram summary product (PNG format)\n",
      "TREX_NIR_HOURLY_MONTAGE_PGM              UCalgary   L2      https://commons.datacite.org/doi.org/10.11575/98w7-jp47                 TREx NIR All Sky Imagers hourly montage summary product (PGM format)\n",
      "TREX_NIR_HOURLY_MONTAGE_PNG              UCalgary   L2      https://commons.datacite.org/doi.org/10.11575/98w7-jp47                 TREx NIR All Sky Imagers hourly montage summary product (PNG format)\n",
      "TREX_NIR_RAW                             UCalgary   L0      https://commons.datacite.org/doi.org/10.11575/98w7-jp47                 TREx NIR All Sky Imagers 6-sec raw data                             \n",
      "TREX_NIR_SKYMAP_IDLSAV                   UCalgary   L3      https://commons.datacite.org/doi.org/10.11575/98w7-jp47                 TREx NIR All Sky Imagers skymap data (IDL save format)              \n",
      "TREX_RGB5577_GRID_MOSV001                UCalgary   L3      https://doi.org/10.26464/epp2023063,                                    TREx RGB All Sky Imager derived 557.7nm emission MOSv001 verified   \n",
      "                                                            https://commons.datacite.org/doi.org/10.11575/4p8e-1k65                 grid files (intensity grid priority)                                \n",
      "TREX_RGB_DAILY_KEOGRAM                   UCalgary   L2      https://commons.datacite.org/doi.org/10.11575/4p8e-1k65                 TREx RGB All Sky Imagers daily keogram summary product              \n",
      "TREX_RGB_DAILY_MONTAGE                   UCalgary   L2      https://commons.datacite.org/doi.org/10.11575/4p8e-1k65                 TREx RGB All Sky Imagers daily montage summary product              \n",
      "TREX_RGB_GRID_MOSV001                    UCalgary   L3      https://commons.datacite.org/doi.org/10.11575/4p8e-1k65                 TREx RGB All Sky Imagers MOSv001 verified grid files (raw data,     \n",
      "                                                                                                                                    intensity grid priority)                                            \n",
      "TREX_RGB_HOURLY_KEOGRAM                  UCalgary   L2      https://commons.datacite.org/doi.org/10.11575/4p8e-1k65                 TREx RGB All Sky Imagers hourly keogram summary product             \n",
      "TREX_RGB_HOURLY_MONTAGE                  UCalgary   L2      https://commons.datacite.org/doi.org/10.11575/4p8e-1k65                 TREx RGB All Sky Imagers hourly montage summary product             \n",
      "TREX_RGB_RAW_BURST                       UCalgary   L0      https://commons.datacite.org/doi.org/10.11575/4p8e-1k65                 TREx RGB All Sky Imagers 3Hz raw burst data                         \n",
      "TREX_RGB_RAW_NOMINAL                     UCalgary   L0      https://commons.datacite.org/doi.org/10.11575/4p8e-1k65                 TREx RGB All Sky Imagers 3-sec raw data                             \n",
      "TREX_RGB_SKYMAP_IDLSAV                   UCalgary   L3      https://commons.datacite.org/doi.org/10.11575/4p8e-1k65                 TREx RGB All Sky Imagers skymap data (IDL save format)              \n"
     ]
    }
   ],
   "source": [
    "# list available datasets\n",
    "rio.data.list_datasets_in_table()"
   ]
  },
  {
   "cell_type": "code",
   "execution_count": 4,
   "metadata": {},
   "outputs": [
    {
     "name": "stderr",
     "output_type": "stream",
     "text": [
      "Downloading NORSTAR_RIOMETER_K0_TXT files: 100%|██████████| 1.61M/1.61M [00:00<00:00, 3.29MB/s]\n"
     ]
    }
   ],
   "source": [
    "# download a few days of NORSTAR Riometer data from Churchill\n",
    "dataset_name = \"NORSTAR_RIOMETER_K0_TXT\"\n",
    "start_dt = datetime.datetime(2021, 11, 3, 0, 0)\n",
    "end_dt = datetime.datetime(2021, 11, 5, 23, 59)\n",
    "site_uid = \"chur\"\n",
    "r = rio.data.ucalgary.download(dataset_name, start_dt, end_dt, site_uid=site_uid)"
   ]
  },
  {
   "cell_type": "code",
   "execution_count": 5,
   "metadata": {},
   "outputs": [
    {
     "name": "stdout",
     "output_type": "stream",
     "text": [
      "FileDownloadResult(filenames=[PosixPath('/home/darrenc/pyucrio_data/NORSTAR_RIOMETER_K0_TXT/2021/11/03/norstar_k0_rio-chur_20211103_v01.txt'), PosixPath('/home/darrenc/pyucrio_data/NORSTAR_RIOMETER_K0_TXT/2021/11/04/norstar_k0_rio-chur_20211104_v01.txt'), PosixPath('/home/darrenc/pyucrio_data/NORSTAR_RIOMETER_K0_TXT/2021/11/05/norstar_k0_rio-chur_20211105_v01.txt')], count=3, total_bytes=1609116, output_root_path='/home/darrenc/pyucrio_data/NORSTAR_RIOMETER_K0_TXT', dataset=Dataset(name=NORSTAR_RIOMETER_K0_TXT, short_description='NORSTAR Single Frequency Riometers K0 raw data, in ASCII format', provider='UCalgary', level='L0', doi_details='Coming soon', ...))\n",
      "\n",
      "{'count': 3,\n",
      " 'dataset': Dataset(name=NORSTAR_RIOMETER_K0_TXT, short_description='NORSTAR Single Frequency Riometers K0 raw data, in ASCII format', provider='UCalgary', level='L0', doi_details='Coming soon', ...),\n",
      " 'filenames': [PosixPath('/home/darrenc/pyucrio_data/NORSTAR_RIOMETER_K0_TXT/2021/11/03/norstar_k0_rio-chur_20211103_v01.txt'),\n",
      "               PosixPath('/home/darrenc/pyucrio_data/NORSTAR_RIOMETER_K0_TXT/2021/11/04/norstar_k0_rio-chur_20211104_v01.txt'),\n",
      "               PosixPath('/home/darrenc/pyucrio_data/NORSTAR_RIOMETER_K0_TXT/2021/11/05/norstar_k0_rio-chur_20211105_v01.txt')],\n",
      " 'output_root_path': '/home/darrenc/pyucrio_data/NORSTAR_RIOMETER_K0_TXT',\n",
      " 'total_bytes': 1609116}\n"
     ]
    }
   ],
   "source": [
    "# view information about the downloaded data\n",
    "print(r)\n",
    "print()\n",
    "\n",
    "pprint.pprint(r.__dict__)"
   ]
  },
  {
   "cell_type": "code",
   "execution_count": 6,
   "metadata": {},
   "outputs": [
    {
     "name": "stderr",
     "output_type": "stream",
     "text": [
      "Downloading NORSTAR_RIOMETER_K0_TXT files: 100%|██████████| 17.7M/17.7M [00:01<00:00, 9.73MB/s]\n"
     ]
    }
   ],
   "source": [
    "# download a couple days of data from all NORSTAR riometer sites\n",
    "dataset_name = \"NORSTAR_RIOMETER_K0_TXT\"\n",
    "start_dt = datetime.datetime(2021, 11, 3, 0, 0)\n",
    "end_dt = datetime.datetime(2021, 11, 5, 23, 59)\n",
    "_ = rio.data.ucalgary.download(dataset_name, start_dt, end_dt)"
   ]
  },
  {
   "cell_type": "markdown",
   "metadata": {},
   "source": [
    "# Read data\n",
    "\n",
    "The data reading routines take in a list of filenames on your computer. The list of files is returned in a `download()` call, but can also be created using `glob` or similar.\n",
    "\n",
    "There are two methods that can be used for reading data:\n",
    "\n",
    "1) using the generic method\n",
    "2) using a specific dataset read function\n",
    "\n",
    "The generic method is the recommended way, but if more control is wanted, you can use the specific read functions directly. The generic method simply uses the dataset name to determine which specific read function to use.\n"
   ]
  },
  {
   "cell_type": "code",
   "execution_count": 7,
   "metadata": {},
   "outputs": [
    {
     "name": "stdout",
     "output_type": "stream",
     "text": [
      "Data(data=[3 RiometerData objects], timestamp=[3 datetimes], metadata=[3 dictionaries], problematic_files=[], calibrated_data=None, dataset=Dataset(name=NORSTAR_RIOMETER_K0_TXT, short_description='NORSTAR Single Fre...))\n",
      "\n",
      "Data:\n",
      "  data                  : [3 RiometerData objects]\n",
      "  timestamp             : [3 datetimes]\n",
      "  metadata              : [3 dictionaries]\n",
      "  problematic_files     : []\n",
      "  calibrated_data       : None\n",
      "  dataset               : Dataset(name=NORSTAR_RIOMETER_K0_TXT, short_description='NORSTAR Single Fre...)\n"
     ]
    }
   ],
   "source": [
    "# let's show the generic method first, since it is the easiest way\n",
    "data = rio.data.ucalgary.read(r.dataset, r.filenames, n_parallel=2)\n",
    "\n",
    "print(data)\n",
    "print()\n",
    "\n",
    "data.pretty_print()"
   ]
  },
  {
   "cell_type": "code",
   "execution_count": 8,
   "metadata": {},
   "outputs": [
    {
     "name": "stdout",
     "output_type": "stream",
     "text": [
      "Data(data=[3 RiometerData objects], timestamp=[3 datetimes], metadata=[3 dictionaries], problematic_files=[], calibrated_data=None, dataset=Dataset(name=NORSTAR_RIOMETER_K0_TXT, short_description='NORSTAR Single Fre...))\n",
      "\n",
      "Data:\n",
      "  data                  : [3 RiometerData objects]\n",
      "  timestamp             : [3 datetimes]\n",
      "  metadata              : [3 dictionaries]\n",
      "  problematic_files     : []\n",
      "  calibrated_data       : None\n",
      "  dataset               : Dataset(name=NORSTAR_RIOMETER_K0_TXT, short_description='NORSTAR Single Fre...)\n"
     ]
    }
   ],
   "source": [
    "# since we know we're reading in NORSTAR riometer k0 data, we can also use the specific read routine. In most\n",
    "# circumstances, this method isn't necessary to use.\n",
    "data = rio.data.ucalgary.readers.read_norstar_riometer(r.filenames, n_parallel=2, dataset=r.dataset)\n",
    "\n",
    "print(data)\n",
    "print()\n",
    "\n",
    "data.pretty_print()"
   ]
  },
  {
   "cell_type": "markdown",
   "metadata": {},
   "source": [
    "# Managing downloaded data"
   ]
  },
  {
   "cell_type": "code",
   "execution_count": 10,
   "metadata": {},
   "outputs": [
    {
     "name": "stdout",
     "output_type": "stream",
     "text": [
      "Dataset name              Size   \n",
      "=================================\n",
      "NORSTAR_RIOMETER_K0_TXT   23.1 MB\n",
      "SWAN_HSR_K0_H5            18.7 MB\n",
      "\n",
      "Total size: 41.7 MB\n"
     ]
    }
   ],
   "source": [
    "# to view the amount of data that is currently downloaded, do the following\n",
    "rio.show_data_usage()"
   ]
  },
  {
   "cell_type": "code",
   "execution_count": 11,
   "metadata": {},
   "outputs": [],
   "source": [
    "# alternatively, you can get the data usage information returned as a dictionary\n",
    "data_usage_dict = rio.show_data_usage(return_dict=True)"
   ]
  },
  {
   "cell_type": "code",
   "execution_count": 12,
   "metadata": {},
   "outputs": [],
   "source": [
    "# to clean up all data we've downloaded, you can do the following.\n",
    "# \n",
    "# alternatively, you can manually delete data yourself\n",
    "rio.purge_download_output_root_path()"
   ]
  },
  {
   "cell_type": "code",
   "execution_count": null,
   "metadata": {},
   "outputs": [],
   "source": []
  }
 ],
 "metadata": {
  "kernelspec": {
   "display_name": "pyucrio39",
   "language": "python",
   "name": "python3"
  },
  "language_info": {
   "codemirror_mode": {
    "name": "ipython",
    "version": 3
   },
   "file_extension": ".py",
   "mimetype": "text/x-python",
   "name": "python",
   "nbconvert_exporter": "python",
   "pygments_lexer": "ipython3",
   "version": "3.9.20"
  }
 },
 "nbformat": 4,
 "nbformat_minor": 2
}
