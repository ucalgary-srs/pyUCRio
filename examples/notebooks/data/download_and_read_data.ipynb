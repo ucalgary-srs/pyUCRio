{
 "cells": [
  {
   "cell_type": "code",
   "execution_count": 3,
   "metadata": {},
   "outputs": [],
   "source": [
    "import datetime\n",
    "import pprint\n",
    "import pyucrio\n",
    "\n",
    "rio = pyucrio.PyUCRio()"
   ]
  },
  {
   "cell_type": "markdown",
   "metadata": {},
   "source": [
    "# Download data"
   ]
  },
  {
   "cell_type": "code",
   "execution_count": 4,
   "metadata": {},
   "outputs": [
    {
     "name": "stdout",
     "output_type": "stream",
     "text": [
      "Name                           Provider   Level   DOI Details                                               Short Description                                                          \n",
      "=======================================================================================================================================================================================\n",
      "NORSTAR_RIOMETER_K0_TXT        UCalgary   L0      https://commons.datacite.org/doi.org/10.11575/afyx-m516   NORSTAR Single Frequency Riometers K0 raw data, in ASCII format            \n",
      "NORSTAR_RIOMETER_K2_TXT        UCalgary   L2      https://commons.datacite.org/doi.org/10.11575/afyx-m516   NORSTAR Single Frequency Riometers K2 baselined data, in ASCII format      \n",
      "SWAN_HSR_K0_H5                 UCalgary   L0      https://commons.datacite.org/doi.org/10.11575/anh5-aw08   SWAN Hyper Spectral Riometer (HSR) K0 raw data, in HDF5 format             \n",
      "SWAN_HSR_K0_SUMMARY_PLOT_JPG   UCalgary   L0      https://commons.datacite.org/doi.org/10.11575/anh5-aw08   SWAN Hyper Spectral Riometer (HSR) K0 raw data summary plots, in JPG format\n"
     ]
    }
   ],
   "source": [
    "# list available datasets\n",
    "rio.data.list_datasets_in_table()"
   ]
  },
  {
   "cell_type": "code",
   "execution_count": 5,
   "metadata": {},
   "outputs": [
    {
     "name": "stderr",
     "output_type": "stream",
     "text": [
      "Downloading NORSTAR_RIOMETER_K0_TXT files:   0%|          | 0.00/1.61M [00:00<?, ?B/s]"
     ]
    },
    {
     "name": "stderr",
     "output_type": "stream",
     "text": [
      "Downloading NORSTAR_RIOMETER_K0_TXT files: 100%|██████████| 1.61M/1.61M [00:00<00:00, 2.81MB/s]\n"
     ]
    }
   ],
   "source": [
    "# download a few days of NORSTAR Riometer data from Churchill\n",
    "dataset_name = \"NORSTAR_RIOMETER_K0_TXT\"\n",
    "start_dt = datetime.datetime(2021, 11, 3, 0, 0)\n",
    "end_dt = datetime.datetime(2021, 11, 5, 23, 59)\n",
    "site_uid = \"chur\"\n",
    "r = rio.data.ucalgary.download(dataset_name, start_dt, end_dt, site_uid=site_uid)"
   ]
  },
  {
   "cell_type": "code",
   "execution_count": 6,
   "metadata": {},
   "outputs": [
    {
     "name": "stdout",
     "output_type": "stream",
     "text": [
      "FileDownloadResult(filenames=[PosixPath('/home/darrenc/pyucrio_data/NORSTAR_RIOMETER_K0_TXT/2021/11/03/norstar_k0_rio-chur_20211103_v01.txt'), PosixPath('/home/darrenc/pyucrio_data/NORSTAR_RIOMETER_K0_TXT/2021/11/04/norstar_k0_rio-chur_20211104_v01.txt'), PosixPath('/home/darrenc/pyucrio_data/NORSTAR_RIOMETER_K0_TXT/2021/11/05/norstar_k0_rio-chur_20211105_v01.txt')], count=3, total_bytes=1609116, output_root_path='/home/darrenc/pyucrio_data/NORSTAR_RIOMETER_K0_TXT', dataset=Dataset(name=NORSTAR_RIOMETER_K0_TXT, short_description='NORSTAR Single Frequency Riometers K0 raw data, in ASCII format', provider='UCalgary', level='L0', doi_details='https://commons.datacite.org/doi.org/10.11575/afyx-m516', ...))\n",
      "\n",
      "{'count': 3,\n",
      " 'dataset': Dataset(name=NORSTAR_RIOMETER_K0_TXT, short_description='NORSTAR Single Frequency Riometers K0 raw data, in ASCII format', provider='UCalgary', level='L0', doi_details='https://commons.datacite.org/doi.org/10.11575/afyx-m516', ...),\n",
      " 'filenames': [PosixPath('/home/darrenc/pyucrio_data/NORSTAR_RIOMETER_K0_TXT/2021/11/03/norstar_k0_rio-chur_20211103_v01.txt'),\n",
      "               PosixPath('/home/darrenc/pyucrio_data/NORSTAR_RIOMETER_K0_TXT/2021/11/04/norstar_k0_rio-chur_20211104_v01.txt'),\n",
      "               PosixPath('/home/darrenc/pyucrio_data/NORSTAR_RIOMETER_K0_TXT/2021/11/05/norstar_k0_rio-chur_20211105_v01.txt')],\n",
      " 'output_root_path': '/home/darrenc/pyucrio_data/NORSTAR_RIOMETER_K0_TXT',\n",
      " 'total_bytes': 1609116}\n"
     ]
    }
   ],
   "source": [
    "# view information about the downloaded data\n",
    "print(r)\n",
    "print()\n",
    "\n",
    "pprint.pprint(r.__dict__)"
   ]
  },
  {
   "cell_type": "code",
   "execution_count": 7,
   "metadata": {},
   "outputs": [
    {
     "name": "stderr",
     "output_type": "stream",
     "text": [
      "Downloading NORSTAR_RIOMETER_K0_TXT files:   0%|          | 0.00/17.7M [00:00<?, ?B/s]"
     ]
    },
    {
     "name": "stderr",
     "output_type": "stream",
     "text": [
      "Downloading NORSTAR_RIOMETER_K0_TXT files: 100%|██████████| 17.7M/17.7M [00:01<00:00, 11.4MB/s]\n"
     ]
    }
   ],
   "source": [
    "# download a couple days of data from all NORSTAR riometer sites\n",
    "dataset_name = \"NORSTAR_RIOMETER_K0_TXT\"\n",
    "start_dt = datetime.datetime(2021, 11, 3, 0, 0)\n",
    "end_dt = datetime.datetime(2021, 11, 5, 23, 59)\n",
    "_ = rio.data.ucalgary.download(dataset_name, start_dt, end_dt)"
   ]
  },
  {
   "cell_type": "markdown",
   "metadata": {},
   "source": [
    "# Read data\n",
    "\n",
    "The data reading routines take in a list of filenames on your computer. The list of files is returned in a `download()` call, but can also be created using `glob` or similar.\n",
    "\n",
    "There are two methods that can be used for reading data:\n",
    "\n",
    "1) using the generic method\n",
    "2) using a specific dataset read function\n",
    "\n",
    "The generic method is the recommended way, but if more control is wanted, you can use the specific read functions directly. The generic method simply uses the dataset name to determine which specific read function to use.\n"
   ]
  },
  {
   "cell_type": "code",
   "execution_count": 8,
   "metadata": {},
   "outputs": [
    {
     "name": "stdout",
     "output_type": "stream",
     "text": [
      "Data(data=[3 RiometerData objects], timestamp=[3 datetimes], metadata=[3 dictionaries], problematic_files=[], calibrated_data=None, dataset=Dataset(name=NORSTAR_RIOMETER_K0_TXT, short_description='NORSTAR Single Fre...))\n",
      "\n",
      "Data:\n",
      "  data                  : [3 RiometerData objects]\n",
      "  timestamp             : [3 datetimes]\n",
      "  metadata              : [3 dictionaries]\n",
      "  problematic_files     : []\n",
      "  calibrated_data       : None\n",
      "  dataset               : Dataset(name=NORSTAR_RIOMETER_K0_TXT, short_description='NORSTAR Single Fre...)\n"
     ]
    }
   ],
   "source": [
    "# let's show the generic method first, since it is the easiest way\n",
    "data = rio.data.ucalgary.read(r.dataset, r.filenames, n_parallel=2)\n",
    "\n",
    "print(data)\n",
    "print()\n",
    "\n",
    "data.pretty_print()"
   ]
  },
  {
   "cell_type": "code",
   "execution_count": 9,
   "metadata": {},
   "outputs": [
    {
     "name": "stdout",
     "output_type": "stream",
     "text": [
      "Data(data=[3 RiometerData objects], timestamp=[3 datetimes], metadata=[3 dictionaries], problematic_files=[], calibrated_data=None, dataset=Dataset(name=NORSTAR_RIOMETER_K0_TXT, short_description='NORSTAR Single Fre...))\n",
      "\n",
      "Data:\n",
      "  data                  : [3 RiometerData objects]\n",
      "  timestamp             : [3 datetimes]\n",
      "  metadata              : [3 dictionaries]\n",
      "  problematic_files     : []\n",
      "  calibrated_data       : None\n",
      "  dataset               : Dataset(name=NORSTAR_RIOMETER_K0_TXT, short_description='NORSTAR Single Fre...)\n"
     ]
    }
   ],
   "source": [
    "# since we know we're reading in NORSTAR riometer k0 data, we can also use the specific read routine. In most\n",
    "# circumstances, this method isn't necessary to use.\n",
    "data = rio.data.ucalgary.readers.read_norstar_riometer(r.filenames, n_parallel=2, dataset=r.dataset)\n",
    "\n",
    "print(data)\n",
    "print()\n",
    "\n",
    "data.pretty_print()"
   ]
  },
  {
   "cell_type": "markdown",
   "metadata": {},
   "source": [
    "# Managing downloaded data"
   ]
  },
  {
   "cell_type": "code",
   "execution_count": 10,
   "metadata": {},
   "outputs": [
    {
     "name": "stdout",
     "output_type": "stream",
     "text": [
      "Dataset name              Size   \n",
      "=================================\n",
      "NORSTAR_RIOMETER_K0_TXT   17.7 MB\n",
      "NORSTAR_RIOMETER_K2_TXT   2.3 MB \n",
      "\n",
      "Total size: 20.0 MB\n"
     ]
    }
   ],
   "source": [
    "# to view the amount of data that is currently downloaded, do the following\n",
    "rio.show_data_usage()"
   ]
  },
  {
   "cell_type": "code",
   "execution_count": 11,
   "metadata": {},
   "outputs": [],
   "source": [
    "# alternatively, you can get the data usage information returned as a dictionary\n",
    "data_usage_dict = rio.show_data_usage(return_dict=True)"
   ]
  },
  {
   "cell_type": "code",
   "execution_count": 12,
   "metadata": {},
   "outputs": [],
   "source": [
    "# to clean up all data we've downloaded, you can do the following.\n",
    "# \n",
    "# alternatively, you can manually delete data yourself\n",
    "rio.purge_download_output_root_path()"
   ]
  }
 ],
 "metadata": {
  "kernelspec": {
   "display_name": "pyucrio39",
   "language": "python",
   "name": "python3"
  },
  "language_info": {
   "codemirror_mode": {
    "name": "ipython",
    "version": 3
   },
   "file_extension": ".py",
   "mimetype": "text/x-python",
   "name": "python",
   "nbconvert_exporter": "python",
   "pygments_lexer": "ipython3",
   "version": "3.9.20"
  }
 },
 "nbformat": 4,
 "nbformat_minor": 2
}
