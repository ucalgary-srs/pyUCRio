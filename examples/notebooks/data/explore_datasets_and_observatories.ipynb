{
 "cells": [
  {
   "cell_type": "code",
   "execution_count": 2,
   "metadata": {},
   "outputs": [],
   "source": [
    "import pyucrio\n",
    "import pprint\n",
    "\n",
    "rio = pyucrio.PyUCRio()"
   ]
  },
  {
   "cell_type": "markdown",
   "metadata": {},
   "source": [
    "# Explore datasets\n",
    "\n",
    "All data available is organized by unique 'dataset' identifier strings, similar to CDAWeb. For example, `NORSTAR_RIOMETER_K2_TXT` is the dataset name for the baselined NORSTAR riometer data, one of the common datasets for that instrument array.\n",
    "\n",
    "There are a few functions to help explore the available datasets and information about them. There is `list_datasets()` to retrieve any datasets matching optional filters, `list_datasets_in_table()` which does the same thing but displays the results in a nice table to help with readability, and `get_dataset()` which retrieves a specific single dataset.\n",
    "\n",
    "You can also navigate to the [Dataset Descriptions](https://data.phys.ucalgary.ca/about_datasets) page and navigate to a particular instrument page. There, you will find a listing of all available (and commonly utilized) datasets for an instrument, along with instrument location/field-of-view maps, and observatory locations.\n",
    "\n",
    "Each dataset has a few attributes. For example, DOI and citation information, data tree location, and provider."
   ]
  },
  {
   "cell_type": "code",
   "execution_count": 3,
   "metadata": {},
   "outputs": [
    {
     "name": "stdout",
     "output_type": "stream",
     "text": [
      "Found 4 datasets\n"
     ]
    }
   ],
   "source": [
    "# list all datasets\n",
    "datasets = rio.data.list_datasets()\n",
    "\n",
    "print(\"Found %d datasets\" % (len(datasets)))"
   ]
  },
  {
   "cell_type": "code",
   "execution_count": 5,
   "metadata": {},
   "outputs": [
    {
     "name": "stdout",
     "output_type": "stream",
     "text": [
      "Dataset(name=NORSTAR_RIOMETER_K0_TXT, short_description='NORSTAR Single Frequency Riometers K0 raw data, in ASCII format', provider='UCalgary', level='L0', doi_details='https://commons.datacite.org/doi.org/10.11575/afyx-m516', ...)\n",
      "\n",
      "Dataset:\n",
      "  citation                : Spanswick, E., Wallis, D., Donovan, E., & Jackel, B. NORSTAR Single Frequency Single Beam Riometers Dataset [Data set]. University of Calgary. https://doi.org/10.11575/AFYX-M516\n",
      "  data_tree_url           : https://data.phys.ucalgary.ca/sort_by_project/GO-Canada/GO-Rio/txt\n",
      "  doi                     : https://doi.org/10.11575/AFYX-M516\n",
      "  doi_details             : https://commons.datacite.org/doi.org/10.11575/afyx-m516\n",
      "  file_listing_supported  : True\n",
      "  file_reading_supported  : True\n",
      "  file_time_resolution    : 1day\n",
      "  level                   : L0\n",
      "  long_description        : NORSTAR Single Frequency Single Beam Riometer array. More information can be found at https://data.phys.ucalgary.ca\n",
      "  name                    : NORSTAR_RIOMETER_K0_TXT\n",
      "  provider                : UCalgary\n",
      "  short_description       : NORSTAR Single Frequency Riometers K0 raw data, in ASCII format\n",
      "  supported_libraries     : ['idl-ucrio', 'pyucalgarysrs', 'pyucrio']\n"
     ]
    }
   ],
   "source": [
    "# view the first dataset\n",
    "print(datasets[0])\n",
    "print()\n",
    "\n",
    "# show a nice printout of the dataset information\n",
    "#\n",
    "# NOTE: for most objects in PyUCRio, we provide a 'pretty_print()' method which\n",
    "# displays class variables in a similar more legible way.\n",
    "datasets[0].pretty_print()\n"
   ]
  },
  {
   "cell_type": "code",
   "execution_count": 6,
   "metadata": {},
   "outputs": [
    {
     "name": "stdout",
     "output_type": "stream",
     "text": [
      "Name                           Provider   Level   DOI Details                                               Short Description                                                          \n",
      "=======================================================================================================================================================================================\n",
      "NORSTAR_RIOMETER_K0_TXT        UCalgary   L0      https://commons.datacite.org/doi.org/10.11575/afyx-m516   NORSTAR Single Frequency Riometers K0 raw data, in ASCII format            \n",
      "NORSTAR_RIOMETER_K2_TXT        UCalgary   L2      https://commons.datacite.org/doi.org/10.11575/afyx-m516   NORSTAR Single Frequency Riometers K2 baselined data, in ASCII format      \n",
      "SWAN_HSR_K0_H5                 UCalgary   L0      https://commons.datacite.org/doi.org/10.11575/anh5-aw08   SWAN Hyper Spectral Riometer (HSR) K0 raw data, in HDF5 format             \n",
      "SWAN_HSR_K0_SUMMARY_PLOT_JPG   UCalgary   L0      https://commons.datacite.org/doi.org/10.11575/anh5-aw08   SWAN Hyper Spectral Riometer (HSR) K0 raw data summary plots, in JPG format\n"
     ]
    }
   ],
   "source": [
    "# print all datasets in a tabular format\n",
    "rio.data.list_datasets_in_table()"
   ]
  },
  {
   "cell_type": "markdown",
   "metadata": {},
   "source": [
    "# Explore observatories\n",
    "\n",
    "A set of observatories are available for each instrument array. These observatories provide information about the sites where data was produced during the array operations. Each observatory object provides site code and full names, along with their geodetic latitude and longitude.\n",
    "\n",
    "You can use the `list_observatories()` function to retrieve all, and `list_observatories_in_table()` to again show the information in a tabular form. To determine the valid 'instrument_array' values, please refer to the PyAuroraX API reference, or utilize the type hinting built into common editors such as VSCode."
   ]
  },
  {
   "cell_type": "code",
   "execution_count": 7,
   "metadata": {},
   "outputs": [
    {
     "name": "stdout",
     "output_type": "stream",
     "text": [
      "Found 14 observatories\n"
     ]
    }
   ],
   "source": [
    "# list all observatories for the SWAN Hyper-Spectral Riometers (HSRs)\n",
    "observatories = rio.data.list_observatories(\"swan_hsr\")\n",
    "\n",
    "print(\"Found %d observatories\" % (len(observatories)))"
   ]
  },
  {
   "cell_type": "code",
   "execution_count": 8,
   "metadata": {},
   "outputs": [
    {
     "name": "stdout",
     "output_type": "stream",
     "text": [
      "Observatory(uid=buff, full_name='Buffalo Narrows, SK, Canada', geodetic_latitude=55.84, geodetic_longitude=-108.42, provider='UCalgary')\n",
      "\n",
      "Observatory:\n",
      "  full_name          : Buffalo Narrows, SK, Canada\n",
      "  geodetic_latitude  : 55.84\n",
      "  geodetic_longitude : -108.42\n",
      "  provider           : UCalgary\n",
      "  uid                : buff\n"
     ]
    }
   ],
   "source": [
    "# view the first observatory\n",
    "print(observatories[0])\n",
    "print()\n",
    "\n",
    "# show a nice printout of the observatory information\n",
    "observatories[0].pretty_print()"
   ]
  },
  {
   "cell_type": "code",
   "execution_count": 9,
   "metadata": {},
   "outputs": [
    {
     "name": "stdout",
     "output_type": "stream",
     "text": [
      "UID    Full Name                            Geodetic Latitude   Geodetic Longitude   Provider\n",
      "=============================================================================================\n",
      "buff   Buffalo Narrows, SK, Canada          55.84               -108.42              UCalgary\n",
      "daws   Dawson City, YK, Canada              64.05               -139.11              UCalgary\n",
      "fsim   Fort Simpson, NWT, Canada            61.76               -121.23              UCalgary\n",
      "gill   Gillam, MB, Canada                   56.38               -94.64               UCalgary\n",
      "isll   Island Lake, MB, Canada              53.86               -94.66               UCalgary\n",
      "mcmu   Fort McMurray, AB, Canada            56.65               -111.22              UCalgary\n",
      "mean   Meanook, AB, Canada                  54.62               -113.35              UCalgary\n",
      "medo   Meadow Lake, SK, Canada              54.13               -108.51              UCalgary\n",
      "nrsq   Narsarsuaq, Greenland                61.16               -45.44               UCalgary\n",
      "pfrr   Poker Flat Research Range, AK, USA   65.13               -147.49              UCalgary\n",
      "pgeo   Prince George, BC, Canada            53.76               -122.85              UCalgary\n",
      "pina   Pinawa, MB, Canada                   50.26               -95.87               UCalgary\n",
      "rabb   Rabbit Lake, SK, Canada              58.23               -103.68              UCalgary\n",
      "russ   Russell, MB, Canada                  50.8                -101.19              UCalgary\n"
     ]
    }
   ],
   "source": [
    "# print all SWAN HSR observatories in a tabular format\n",
    "rio.data.list_observatories_in_table(\"swan_hsr\")"
   ]
  },
  {
   "cell_type": "code",
   "execution_count": null,
   "metadata": {},
   "outputs": [],
   "source": []
  }
 ],
 "metadata": {
  "kernelspec": {
   "display_name": "pyucrio39",
   "language": "python",
   "name": "python3"
  },
  "language_info": {
   "codemirror_mode": {
    "name": "ipython",
    "version": 3
   },
   "file_extension": ".py",
   "mimetype": "text/x-python",
   "name": "python",
   "nbconvert_exporter": "python",
   "pygments_lexer": "ipython3",
   "version": "3.9.20"
  }
 },
 "nbformat": 4,
 "nbformat_minor": 2
}
