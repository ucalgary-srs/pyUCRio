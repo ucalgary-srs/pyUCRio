{
 "cells": [
  {
   "cell_type": "code",
   "execution_count": 2,
   "metadata": {},
   "outputs": [],
   "source": [
    "import pyucrio\n",
    "import pprint\n",
    "\n",
    "rio = pyucrio.PyUCRio()"
   ]
  },
  {
   "cell_type": "markdown",
   "metadata": {},
   "source": [
    "# Explore datasets"
   ]
  },
  {
   "cell_type": "code",
   "execution_count": 3,
   "metadata": {},
   "outputs": [
    {
     "name": "stdout",
     "output_type": "stream",
     "text": [
      "Found 4 datasets\n"
     ]
    }
   ],
   "source": [
    "# list all datasets\n",
    "datasets = rio.data.list_datasets()\n",
    "\n",
    "print(\"Found %d datasets\" % (len(datasets)))"
   ]
  },
  {
   "cell_type": "code",
   "execution_count": 4,
   "metadata": {},
   "outputs": [
    {
     "name": "stdout",
     "output_type": "stream",
     "text": [
      "Dataset(name=NORSTAR_RIOMETER_K0_TXT, short_description='NORSTAR Single Frequency Riometers K0 raw data, in ASCII format', provider='UCalgary', level='L0', doi_details='https://commons.datacite.org/doi.org/10.11575/afyx-m516', ...)\n",
      "\n",
      "{'citation': 'Spanswick, E., Wallis, D., Donovan, E., & Jackel, B. NORSTAR '\n",
      "             'Single Frequency Single Beam Riometers Dataset [Data set]. '\n",
      "             'University of Calgary. https://doi.org/10.11575/AFYX-M516',\n",
      " 'data_tree_url': 'https://data.phys.ucalgary.ca/sort_by_project/GO-Canada/GO-Rio/txt',\n",
      " 'doi': 'https://doi.org/10.11575/AFYX-M516',\n",
      " 'doi_details': 'https://commons.datacite.org/doi.org/10.11575/afyx-m516',\n",
      " 'file_listing_supported': True,\n",
      " 'file_reading_supported': True,\n",
      " 'level': 'L0',\n",
      " 'long_description': 'NORSTAR Single Frequency Single Beam Riometer array. '\n",
      "                     'More information can be found at '\n",
      "                     'https://data.phys.ucalgary.ca',\n",
      " 'name': 'NORSTAR_RIOMETER_K0_TXT',\n",
      " 'provider': 'UCalgary',\n",
      " 'short_description': 'NORSTAR Single Frequency Riometers K0 raw data, in '\n",
      "                      'ASCII format',\n",
      " 'supported_libraries': ['idl-ucrio', 'pyucalgarysrs', 'pyucrio']}\n"
     ]
    }
   ],
   "source": [
    "# view the first dataset\n",
    "print(datasets[0])\n",
    "\n",
    "print()\n",
    "\n",
    "# show all values in the Dataset class\n",
    "pprint.pprint(datasets[0].__dict__)"
   ]
  },
  {
   "cell_type": "code",
   "execution_count": 5,
   "metadata": {},
   "outputs": [
    {
     "name": "stdout",
     "output_type": "stream",
     "text": [
      "Dataset:\n",
      "  citation                   : Spanswick, E., Wallis, D., Donovan, E., & Jackel, B. NORSTAR Single Frequency Single Beam Riometers Dataset [Data set]. University of Calgary. https://doi.org/10.11575/AFYX-M516\n",
      "  data_tree_url              : https://data.phys.ucalgary.ca/sort_by_project/GO-Canada/GO-Rio/txt\n",
      "  doi                        : https://doi.org/10.11575/AFYX-M516\n",
      "  doi_details                : https://commons.datacite.org/doi.org/10.11575/afyx-m516\n",
      "  file_listing_supported     : True\n",
      "  file_reading_supported     : True\n",
      "  level                      : L0\n",
      "  long_description           : NORSTAR Single Frequency Single Beam Riometer array. More information can be found at https://data.phys.ucalgary.ca\n",
      "  name                       : NORSTAR_RIOMETER_K0_TXT\n",
      "  provider                   : UCalgary\n",
      "  short_description          : NORSTAR Single Frequency Riometers K0 raw data, in ASCII format\n",
      "  supported_libraries        : ['idl-ucrio', 'pyucalgarysrs', 'pyucrio']\n"
     ]
    }
   ],
   "source": [
    "# there is also a pretty_print function to show all information in a different way\n",
    "datasets[0].pretty_print()"
   ]
  },
  {
   "cell_type": "code",
   "execution_count": 6,
   "metadata": {},
   "outputs": [
    {
     "name": "stdout",
     "output_type": "stream",
     "text": [
      "Name                           Provider   Level   DOI Details                                               Short Description                                                          \n",
      "=======================================================================================================================================================================================\n",
      "NORSTAR_RIOMETER_K0_TXT        UCalgary   L0      https://commons.datacite.org/doi.org/10.11575/afyx-m516   NORSTAR Single Frequency Riometers K0 raw data, in ASCII format            \n",
      "NORSTAR_RIOMETER_K2_TXT        UCalgary   L2      https://commons.datacite.org/doi.org/10.11575/afyx-m516   NORSTAR Single Frequency Riometers K2 baselined data, in ASCII format      \n",
      "SWAN_HSR_K0_H5                 UCalgary   L0      https://commons.datacite.org/doi.org/10.11575/anh5-aw08   SWAN Hyper Spectral Riometer (HSR) K0 raw data, in HDF5 format             \n",
      "SWAN_HSR_K0_SUMMARY_PLOT_JPG   UCalgary   L0      https://commons.datacite.org/doi.org/10.11575/anh5-aw08   SWAN Hyper Spectral Riometer (HSR) K0 raw data summary plots, in JPG format\n"
     ]
    }
   ],
   "source": [
    "# you can also print all datasets in a table\n",
    "rio.data.list_datasets_in_table()"
   ]
  },
  {
   "cell_type": "markdown",
   "metadata": {},
   "source": [
    "# Explore  observatories"
   ]
  },
  {
   "cell_type": "code",
   "execution_count": 7,
   "metadata": {},
   "outputs": [
    {
     "name": "stdout",
     "output_type": "stream",
     "text": [
      "Found 14 observatories\n"
     ]
    }
   ],
   "source": [
    "# list all observatories\n",
    "observatories = rio.data.list_observatories(\"swan_hsr\")\n",
    "\n",
    "print(\"Found %d observatories\" % (len(observatories)))"
   ]
  },
  {
   "cell_type": "code",
   "execution_count": 8,
   "metadata": {},
   "outputs": [
    {
     "name": "stdout",
     "output_type": "stream",
     "text": [
      "Observatory(uid=buff, full_name='Buffalo Narrows, SK, Canada', geodetic_latitude=55.84, geodetic_longitude=-108.42, provider='UCalgary')\n",
      "\n",
      "{'full_name': 'Buffalo Narrows, SK, Canada',\n",
      " 'geodetic_latitude': 55.84,\n",
      " 'geodetic_longitude': -108.42,\n",
      " 'provider': 'UCalgary',\n",
      " 'uid': 'buff'}\n"
     ]
    }
   ],
   "source": [
    "# view the first dataset\n",
    "print(observatories[0])\n",
    "\n",
    "print()\n",
    "\n",
    "# show all values in the Dataset class\n",
    "pprint.pprint(observatories[0].__dict__)"
   ]
  },
  {
   "cell_type": "code",
   "execution_count": 9,
   "metadata": {},
   "outputs": [
    {
     "name": "stdout",
     "output_type": "stream",
     "text": [
      "Observatory:\n",
      "  full_name             : Buffalo Narrows, SK, Canada\n",
      "  geodetic_latitude     : 55.84\n",
      "  geodetic_longitude    : -108.42\n",
      "  provider              : UCalgary\n",
      "  uid                   : buff\n"
     ]
    }
   ],
   "source": [
    "# there is also a pretty_print function to show all information in a different way\n",
    "observatories[0].pretty_print()"
   ]
  },
  {
   "cell_type": "code",
   "execution_count": 10,
   "metadata": {},
   "outputs": [
    {
     "name": "stdout",
     "output_type": "stream",
     "text": [
      "UID    Full Name                            Geodetic Latitude   Geodetic Longitude   Provider\n",
      "=============================================================================================\n",
      "buff   Buffalo Narrows, SK, Canada          55.84               -108.42              UCalgary\n",
      "daws   Dawson City, YK, Canada              64.05               -139.11              UCalgary\n",
      "fsim   Fort Simpson, NWT, Canada            61.76               -121.23              UCalgary\n",
      "gill   Gillam, MB, Canada                   56.38               -94.64               UCalgary\n",
      "isll   Island Lake, MB, Canada              53.86               -94.66               UCalgary\n",
      "mcmu   Fort McMurray, AB, Canada            56.65               -111.22              UCalgary\n",
      "mean   Meanook, AB, Canada                  54.62               -113.35              UCalgary\n",
      "medo   Meadow Lake, SK, Canada              54.13               -108.51              UCalgary\n",
      "nrsq   Narsarsuaq, Greenland                61.16               -45.44               UCalgary\n",
      "pfrr   Poker Flat Research Range, AK, USA   65.13               -147.49              UCalgary\n",
      "pgeo   Prince George, BC, Canada            53.76               -122.85              UCalgary\n",
      "pina   Pinawa, MB, Canada                   50.26               -95.87               UCalgary\n",
      "rabb   Rabbit Lake, SK, Canada              58.23               -103.68              UCalgary\n",
      "russ   Russell, MB, Canada                  50.8                -101.19              UCalgary\n"
     ]
    }
   ],
   "source": [
    "# you can also print all observatories in a table\n",
    "rio.data.list_observatories_in_table(\"swan_hsr\")"
   ]
  }
 ],
 "metadata": {
  "kernelspec": {
   "display_name": "pyucrio39",
   "language": "python",
   "name": "python3"
  },
  "language_info": {
   "codemirror_mode": {
    "name": "ipython",
    "version": 3
   },
   "file_extension": ".py",
   "mimetype": "text/x-python",
   "name": "python",
   "nbconvert_exporter": "python",
   "pygments_lexer": "ipython3",
   "version": "3.9.20"
  }
 },
 "nbformat": 4,
 "nbformat_minor": 2
}
