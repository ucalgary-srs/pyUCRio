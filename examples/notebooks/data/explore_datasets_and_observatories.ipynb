{
 "cells": [
  {
   "cell_type": "code",
   "execution_count": 2,
   "metadata": {},
   "outputs": [],
   "source": [
    "import pyucrio\n",
    "import pprint\n",
    "\n",
    "rio = pyucrio.PyUCRio()"
   ]
  },
  {
   "cell_type": "markdown",
   "metadata": {},
   "source": [
    "# Explore datasets"
   ]
  },
  {
   "cell_type": "code",
   "execution_count": 3,
   "metadata": {},
   "outputs": [
    {
     "name": "stdout",
     "output_type": "stream",
     "text": [
      "Found 74 datasets\n"
     ]
    }
   ],
   "source": [
    "# list all datasets\n",
    "datasets = rio.data.list_datasets()\n",
    "\n",
    "print(\"Found %d datasets\" % (len(datasets)))"
   ]
  },
  {
   "cell_type": "code",
   "execution_count": 4,
   "metadata": {},
   "outputs": [
    {
     "name": "stdout",
     "output_type": "stream",
     "text": [
      "Dataset(name=NORSTAR_RIOMETER_K0_TXT, short_description='NORSTAR Single Frequency Riometers K0 raw data, in ASCII format', provider='UCalgary', level='L0', doi_details='Coming soon', ...)\n",
      "\n",
      "{'citation': 'Coming soon',\n",
      " 'data_tree_url': 'https://data.phys.ucalgary.ca/sort_by_project/GO-Canada/GO-Rio/txt',\n",
      " 'doi': 'Coming soon',\n",
      " 'doi_details': 'Coming soon',\n",
      " 'file_listing_supported': True,\n",
      " 'file_reading_supported': True,\n",
      " 'level': 'L0',\n",
      " 'long_description': 'NORSTAR Single Frequency Riometer array. More '\n",
      "                     'information can be found at '\n",
      "                     'https://data.phys.ucalgary.ca',\n",
      " 'name': 'NORSTAR_RIOMETER_K0_TXT',\n",
      " 'provider': 'UCalgary',\n",
      " 'short_description': 'NORSTAR Single Frequency Riometers K0 raw data, in '\n",
      "                      'ASCII format'}\n"
     ]
    }
   ],
   "source": [
    "# view the first dataset\n",
    "print(datasets[0])\n",
    "\n",
    "print()\n",
    "\n",
    "# show all values in the Dataset class\n",
    "pprint.pprint(datasets[0].__dict__)"
   ]
  },
  {
   "cell_type": "code",
   "execution_count": 5,
   "metadata": {},
   "outputs": [
    {
     "name": "stdout",
     "output_type": "stream",
     "text": [
      "Dataset:\n",
      "  citation                   : Coming soon\n",
      "  data_tree_url              : https://data.phys.ucalgary.ca/sort_by_project/GO-Canada/GO-Rio/txt\n",
      "  doi                        : Coming soon\n",
      "  doi_details                : Coming soon\n",
      "  file_listing_supported     : True\n",
      "  file_reading_supported     : True\n",
      "  level                      : L0\n",
      "  long_description           : NORSTAR Single Frequency Riometer array. More information can be found at https://data.phys.ucalgary.ca\n",
      "  name                       : NORSTAR_RIOMETER_K0_TXT\n",
      "  provider                   : UCalgary\n",
      "  short_description          : NORSTAR Single Frequency Riometers K0 raw data, in ASCII format\n"
     ]
    }
   ],
   "source": [
    "# there is also a pretty_print function to show all information in a different way\n",
    "datasets[0].pretty_print()"
   ]
  },
  {
   "cell_type": "code",
   "execution_count": 6,
   "metadata": {},
   "outputs": [
    {
     "name": "stdout",
     "output_type": "stream",
     "text": [
      "Name                                     Provider   Level   DOI Details                                                             Short Description                                                   \n",
      "========================================================================================================================================================================================================\n",
      "NORSTAR_RIOMETER_K0_TXT                  UCalgary   L0      Coming soon                                                             NORSTAR Single Frequency Riometers K0 raw data, in ASCII format     \n",
      "NORSTAR_RIOMETER_K2_TXT                  UCalgary   L2      Coming soon                                                             NORSTAR Single Frequency Riometers K2 baselined data, in ASCII      \n",
      "                                                                                                                                    format                                                              \n",
      "REGO_CALIBRATION_FLATFIELD_IDLSAV        UCalgary   L3      https://commons.datacite.org/doi.org/10.11575/z7x6-5c42                 REGO All Sky Imagers Flatfield calibration data (IDL save format)   \n",
      "REGO_CALIBRATION_RAYLEIGHS_IDLSAV        UCalgary   L3      https://commons.datacite.org/doi.org/10.11575/z7x6-5c42                 REGO All Sky Imagers Rayleighs calibration data (IDL save format)   \n",
      "REGO_DAILY_KEOGRAM_JPG                   UCalgary   L2      https://commons.datacite.org/doi.org/10.11575/z7x6-5c42                 REGO All Sky Imagers daily keogram summary product (JPG format)     \n",
      "REGO_DAILY_KEOGRAM_PGM                   UCalgary   L2      https://commons.datacite.org/doi.org/10.11575/z7x6-5c42                 REGO All Sky Imagers daily keogram summary product (PGM format)     \n",
      "REGO_DAILY_KEOGRAM_PNG                   UCalgary   L2      https://commons.datacite.org/doi.org/10.11575/z7x6-5c42                 REGO All Sky Imagers daily keogram summary product (PNG format)     \n",
      "REGO_DAILY_MONTAGE_JPG                   UCalgary   L2      https://commons.datacite.org/doi.org/10.11575/z7x6-5c42                 REGO All Sky Imagers daily montage summary product (JPG format)     \n",
      "REGO_DAILY_MONTAGE_PGM                   UCalgary   L2      https://commons.datacite.org/doi.org/10.11575/z7x6-5c42                 REGO All Sky Imagers daily montage summary product (PGM format)     \n",
      "REGO_DAILY_MONTAGE_PNG                   UCalgary   L2      https://commons.datacite.org/doi.org/10.11575/z7x6-5c42                 REGO All Sky Imagers daily montage summary product (PNG format)     \n",
      "REGO_GRID_MOSV001                        UCalgary   L3      https://commons.datacite.org/doi.org/10.11575/z7x6-5c42                 REGO All Sky Imagers MOSv001 verified grid files (corner subtracted,\n",
      "                                                                                                                                    flatfield corrected, rayleighs converted, intensity grid priority)  \n",
      "REGO_HOURLY_KEOGRAM_JPG                  UCalgary   L2      https://commons.datacite.org/doi.org/10.11575/z7x6-5c42                 REGO All Sky Imagers hourly keogram summary product (JPG format)    \n",
      "REGO_HOURLY_KEOGRAM_PGM                  UCalgary   L2      https://commons.datacite.org/doi.org/10.11575/z7x6-5c42                 REGO All Sky Imagers hourly keogram summary product (PGM format)    \n",
      "REGO_HOURLY_KEOGRAM_PNG                  UCalgary   L2      https://commons.datacite.org/doi.org/10.11575/z7x6-5c42                 REGO All Sky Imagers hourly keogram summary product (PNG format)    \n",
      "REGO_HOURLY_MONTAGE_JPG                  UCalgary   L2      https://commons.datacite.org/doi.org/10.11575/z7x6-5c42                 REGO All Sky Imagers hourly montage summary product (JPG format)    \n",
      "REGO_HOURLY_MONTAGE_PGM                  UCalgary   L2      https://commons.datacite.org/doi.org/10.11575/z7x6-5c42                 REGO All Sky Imagers hourly montage summary product (PGM format)    \n",
      "REGO_HOURLY_MONTAGE_PNG                  UCalgary   L2      https://commons.datacite.org/doi.org/10.11575/z7x6-5c42                 REGO All Sky Imagers hourly montage summary product (PNG format)    \n",
      "REGO_RAW                                 UCalgary   L0      https://commons.datacite.org/doi.org/10.11575/z7x6-5c42                 REGO All Sky Imagers 3-sec raw data                                 \n",
      "REGO_SKYMAP_IDLSAV                       UCalgary   L3      https://commons.datacite.org/doi.org/10.11575/z7x6-5c42                 REGO All Sky Imagers skymap data (IDL save format)                  \n",
      "SWAN_HSR_K0_H5                           UCalgary   L0      Coming soon                                                             SWAN Hyper Spectral Riometer (HSR) K0 raw data, in HDF5 format      \n",
      "SWAN_HSR_K0_SUMMARY_PLOT_JPG             UCalgary   L0      Coming soon                                                             SWAN Hyper Spectral Riometer (HSR) K0 raw data summary plots, in JPG\n",
      "                                                                                                                                    format                                                              \n",
      "THEMIS_ASI_DAILY_KEOGRAM_JPG             UCalgary   L2      None                                                                    THEMIS All Sky Imagers daily keogram summary product (JPG format)   \n",
      "THEMIS_ASI_DAILY_KEOGRAM_PGM             UCalgary   L2      None                                                                    THEMIS All Sky Imagers daily keogram summary product (PGM format)   \n",
      "THEMIS_ASI_DAILY_MONTAGE_JPG             UCalgary   L2      None                                                                    THEMIS All Sky Imagers daily montage summary product (JPG format)   \n",
      "THEMIS_ASI_DAILY_MONTAGE_PGM             UCalgary   L2      None                                                                    THEMIS All Sky Imagers daily montage summary product (PGM format)   \n",
      "THEMIS_ASI_GRID_MOSU001                  UCalgary   L3      None                                                                    THEMIS All Sky Imagers MOSu001 unverified grid files (corner        \n",
      "                                                                                                                                    subtracted, intensity grid priority, ML cloud detection)            \n",
      "THEMIS_ASI_GRID_MOSV001                  UCalgary   L3      None                                                                    THEMIS All Sky Imagers MOSv001 verified grid files (corner          \n",
      "                                                                                                                                    subtracted, intensity grid priority)                                \n",
      "THEMIS_ASI_HOURLY_AVERAGE_JPG            UCalgary   L2      None                                                                    THEMIS All Sky Imagers hourly average summary product (JPG format)  \n",
      "THEMIS_ASI_HOURLY_AVERAGE_PGM            UCalgary   L2      None                                                                    THEMIS All Sky Imagers hourly average summary product (PGM format)  \n",
      "THEMIS_ASI_HOURLY_KEOGRAM_JPG            UCalgary   L2      None                                                                    THEMIS All Sky Imagers hourly keogram summary product (JPG format)  \n",
      "THEMIS_ASI_HOURLY_KEOGRAM_PGM            UCalgary   L2      None                                                                    THEMIS All Sky Imagers hourly keogram summary product (PGM format)  \n",
      "THEMIS_ASI_HOURLY_MONTAGE_JPG            UCalgary   L2      None                                                                    THEMIS All Sky Imagers hourly montage summary product (JPG format)  \n",
      "THEMIS_ASI_HOURLY_MONTAGE_PGM            UCalgary   L2      None                                                                    THEMIS All Sky Imagers hourly montage summary product (PGM format)  \n",
      "THEMIS_ASI_RAW                           UCalgary   L0      None                                                                    THEMIS All Sky Imagers 3-sec raw data                               \n",
      "THEMIS_ASI_RAW_ROW2                      UCalgary   L0      None                                                                    THEMIS All Sky Imagers raw row2 data                                \n",
      "THEMIS_ASI_RAW_WIDE                      UCalgary   L0      None                                                                    THEMIS All Sky Imagers raw wide data                                \n",
      "THEMIS_ASI_SKYMAP_IDLSAV                 UCalgary   L3      None                                                                    THEMIS All Sky Imagers skymap data (IDL save format)                \n",
      "THEMIS_ASI_THUMB32                       UCalgary   L1A     None                                                                    THEMIS All Sky Imagers thumb32 data                                 \n",
      "THEMIS_ASI_VEC1024                       UCalgary   L1A     None                                                                    THEMIS All Sky Imagers vec1024 data                                 \n",
      "TREX_BLUE_CALIBRATION_FLATFIELD_IDLSAV   UCalgary   L3      https://commons.datacite.org/doi.org/10.11575/80pf-0p02                 TREx Blueline All Sky Imagers Flatfield calibration data (IDL save  \n",
      "                                                                                                                                    format)                                                             \n",
      "TREX_BLUE_CALIBRATION_RAYLEIGHS_IDLSAV   UCalgary   L3      https://commons.datacite.org/doi.org/10.11575/80pf-0p02                 TREx Blueline All Sky Imagers Rayleighs calibration data (IDL save  \n",
      "                                                                                                                                    format)                                                             \n",
      "TREX_BLUE_DAILY_KEOGRAM_PGM              UCalgary   L2      https://commons.datacite.org/doi.org/10.11575/80pf-0p02                 TREx Blueline All Sky Imagers daily keogram summary product (PGM    \n",
      "                                                                                                                                    format)                                                             \n",
      "TREX_BLUE_DAILY_KEOGRAM_PNG              UCalgary   L2      https://commons.datacite.org/doi.org/10.11575/80pf-0p02                 TREx Blueline All Sky Imagers daily keogram summary product (PNG    \n",
      "                                                                                                                                    format)                                                             \n",
      "TREX_BLUE_DAILY_MONTAGE_PGM              UCalgary   L2      https://commons.datacite.org/doi.org/10.11575/80pf-0p02                 TREx Blueline All Sky Imagers daily montage summary product (PGM    \n",
      "                                                                                                                                    format)                                                             \n",
      "TREX_BLUE_DAILY_MONTAGE_PNG              UCalgary   L2      https://commons.datacite.org/doi.org/10.11575/80pf-0p02                 TREx Blueline All Sky Imagers daily montage summary product (PNG    \n",
      "                                                                                                                                    format)                                                             \n",
      "TREX_BLUE_GRID_MOSV001                   UCalgary   L3      https://commons.datacite.org/doi.org/10.11575/80pf-0p02                 TREx Blueline All Sky Imagers MOSv001 verified grid files (raw data,\n",
      "                                                                                                                                    intensity grid priority)                                            \n",
      "TREX_BLUE_HOURLY_KEOGRAM_PGM             UCalgary   L2      https://commons.datacite.org/doi.org/10.11575/80pf-0p02                 TREx Blueline All Sky Imagers hourly keogram summary product (PGM   \n",
      "                                                                                                                                    format)                                                             \n",
      "TREX_BLUE_HOURLY_KEOGRAM_PNG             UCalgary   L2      https://commons.datacite.org/doi.org/10.11575/80pf-0p02                 TREx Blueline All Sky Imagers hourly keogram summary product (PNG   \n",
      "                                                                                                                                    format)                                                             \n",
      "TREX_BLUE_HOURLY_MONTAGE_PGM             UCalgary   L2      https://commons.datacite.org/doi.org/10.11575/80pf-0p02                 TREx Blueline All Sky Imagers hourly montage summary product (PGM   \n",
      "                                                                                                                                    format)                                                             \n",
      "TREX_BLUE_HOURLY_MONTAGE_PNG             UCalgary   L2      https://commons.datacite.org/doi.org/10.11575/80pf-0p02                 TREx Blueline All Sky Imagers hourly montage summary product (PNG   \n",
      "                                                                                                                                    format)                                                             \n",
      "TREX_BLUE_RAW                            UCalgary   L0      https://commons.datacite.org/doi.org/10.11575/80pf-0p02                 TREx Blueline All Sky Imagers 3-sec raw data                        \n",
      "TREX_BLUE_SKYMAP_IDLSAV                  UCalgary   L3      https://commons.datacite.org/doi.org/10.11575/80pf-0p02                 TREx Blueline All Sky Imagers skymap data (IDL save format)         \n",
      "TREX_NIR_CALIBRATION_FLATFIELD_IDLSAV    UCalgary   L3      https://commons.datacite.org/doi.org/10.11575/98w7-jp47                 TREx NIR All Sky Imagers Flatfield calibration data (IDL save       \n",
      "                                                                                                                                    format)                                                             \n",
      "TREX_NIR_CALIBRATION_RAYLEIGHS_IDLSAV    UCalgary   L3      https://commons.datacite.org/doi.org/10.11575/98w7-jp47                 TREx NIR All Sky Imagers Rayleighs calibration data (IDL save       \n",
      "                                                                                                                                    format)                                                             \n",
      "TREX_NIR_DAILY_KEOGRAM_PGM               UCalgary   L2      https://commons.datacite.org/doi.org/10.11575/98w7-jp47                 TREx NIR All Sky Imagers daily keogram summary product (PGM format) \n",
      "TREX_NIR_DAILY_KEOGRAM_PNG               UCalgary   L2      https://commons.datacite.org/doi.org/10.11575/98w7-jp47                 TREx NIR All Sky Imagers daily keogram summary product (PNG format) \n",
      "TREX_NIR_DAILY_MONTAGE_PGM               UCalgary   L2      https://commons.datacite.org/doi.org/10.11575/98w7-jp47                 TREx NIR All Sky Imagers daily montage summary product (PGM format) \n",
      "TREX_NIR_DAILY_MONTAGE_PNG               UCalgary   L2      https://commons.datacite.org/doi.org/10.11575/98w7-jp47                 TREx NIR All Sky Imagers daily montage summary product (PNG format) \n",
      "TREX_NIR_GRID_MOSV001                    UCalgary   L3      https://commons.datacite.org/doi.org/10.11575/98w7-jp47                 TREx NIR All Sky Imagers MOSv001 verified grid files (raw data,     \n",
      "                                                                                                                                    intensity grid priority)                                            \n",
      "TREX_NIR_HOURLY_KEOGRAM_PGM              UCalgary   L2      https://commons.datacite.org/doi.org/10.11575/98w7-jp47                 TREx NIR All Sky Imagers hourly keogram summary product (PGM format)\n",
      "TREX_NIR_HOURLY_KEOGRAM_PNG              UCalgary   L2      https://commons.datacite.org/doi.org/10.11575/98w7-jp47                 TREx NIR All Sky Imagers hourly keogram summary product (PNG format)\n",
      "TREX_NIR_HOURLY_MONTAGE_PGM              UCalgary   L2      https://commons.datacite.org/doi.org/10.11575/98w7-jp47                 TREx NIR All Sky Imagers hourly montage summary product (PGM format)\n",
      "TREX_NIR_HOURLY_MONTAGE_PNG              UCalgary   L2      https://commons.datacite.org/doi.org/10.11575/98w7-jp47                 TREx NIR All Sky Imagers hourly montage summary product (PNG format)\n",
      "TREX_NIR_RAW                             UCalgary   L0      https://commons.datacite.org/doi.org/10.11575/98w7-jp47                 TREx NIR All Sky Imagers 6-sec raw data                             \n",
      "TREX_NIR_SKYMAP_IDLSAV                   UCalgary   L3      https://commons.datacite.org/doi.org/10.11575/98w7-jp47                 TREx NIR All Sky Imagers skymap data (IDL save format)              \n",
      "TREX_RGB5577_GRID_MOSV001                UCalgary   L3      https://doi.org/10.26464/epp2023063,                                    TREx RGB All Sky Imager derived 557.7nm emission MOSv001 verified   \n",
      "                                                            https://commons.datacite.org/doi.org/10.11575/4p8e-1k65                 grid files (intensity grid priority)                                \n",
      "TREX_RGB_DAILY_KEOGRAM                   UCalgary   L2      https://commons.datacite.org/doi.org/10.11575/4p8e-1k65                 TREx RGB All Sky Imagers daily keogram summary product              \n",
      "TREX_RGB_DAILY_MONTAGE                   UCalgary   L2      https://commons.datacite.org/doi.org/10.11575/4p8e-1k65                 TREx RGB All Sky Imagers daily montage summary product              \n",
      "TREX_RGB_GRID_MOSV001                    UCalgary   L3      https://commons.datacite.org/doi.org/10.11575/4p8e-1k65                 TREx RGB All Sky Imagers MOSv001 verified grid files (raw data,     \n",
      "                                                                                                                                    intensity grid priority)                                            \n",
      "TREX_RGB_HOURLY_KEOGRAM                  UCalgary   L2      https://commons.datacite.org/doi.org/10.11575/4p8e-1k65                 TREx RGB All Sky Imagers hourly keogram summary product             \n",
      "TREX_RGB_HOURLY_MONTAGE                  UCalgary   L2      https://commons.datacite.org/doi.org/10.11575/4p8e-1k65                 TREx RGB All Sky Imagers hourly montage summary product             \n",
      "TREX_RGB_RAW_BURST                       UCalgary   L0      https://commons.datacite.org/doi.org/10.11575/4p8e-1k65                 TREx RGB All Sky Imagers 3Hz raw burst data                         \n",
      "TREX_RGB_RAW_NOMINAL                     UCalgary   L0      https://commons.datacite.org/doi.org/10.11575/4p8e-1k65                 TREx RGB All Sky Imagers 3-sec raw data                             \n",
      "TREX_RGB_SKYMAP_IDLSAV                   UCalgary   L3      https://commons.datacite.org/doi.org/10.11575/4p8e-1k65                 TREx RGB All Sky Imagers skymap data (IDL save format)              \n"
     ]
    }
   ],
   "source": [
    "# you can also print all datasets in a table\n",
    "rio.data.list_datasets_in_table()"
   ]
  },
  {
   "cell_type": "markdown",
   "metadata": {},
   "source": [
    "# Explore  observatories"
   ]
  },
  {
   "cell_type": "code",
   "execution_count": 7,
   "metadata": {},
   "outputs": [
    {
     "name": "stdout",
     "output_type": "stream",
     "text": [
      "Found 14 observatories\n"
     ]
    }
   ],
   "source": [
    "# list all observatories\n",
    "observatories = rio.data.list_observatories(\"swan_hsr\")\n",
    "\n",
    "print(\"Found %d observatories\" % (len(observatories)))"
   ]
  },
  {
   "cell_type": "code",
   "execution_count": 8,
   "metadata": {},
   "outputs": [
    {
     "name": "stdout",
     "output_type": "stream",
     "text": [
      "Observatory(uid=buff, full_name='Buffalo Narrows, SK, Canada', geodetic_latitude=55.84, geodetic_longitude=-108.42, provider='UCalgary')\n",
      "\n",
      "{'full_name': 'Buffalo Narrows, SK, Canada',\n",
      " 'geodetic_latitude': 55.84,\n",
      " 'geodetic_longitude': -108.42,\n",
      " 'provider': 'UCalgary',\n",
      " 'uid': 'buff'}\n"
     ]
    }
   ],
   "source": [
    "# view the first dataset\n",
    "print(observatories[0])\n",
    "\n",
    "print()\n",
    "\n",
    "# show all values in the Dataset class\n",
    "pprint.pprint(observatories[0].__dict__)"
   ]
  },
  {
   "cell_type": "code",
   "execution_count": 9,
   "metadata": {},
   "outputs": [
    {
     "name": "stdout",
     "output_type": "stream",
     "text": [
      "Observatory:\n",
      "  full_name             : Buffalo Narrows, SK, Canada\n",
      "  geodetic_latitude     : 55.84\n",
      "  geodetic_longitude    : -108.42\n",
      "  provider              : UCalgary\n",
      "  uid                   : buff\n"
     ]
    }
   ],
   "source": [
    "# there is also a pretty_print function to show all information in a different way\n",
    "observatories[0].pretty_print()"
   ]
  },
  {
   "cell_type": "code",
   "execution_count": 11,
   "metadata": {},
   "outputs": [
    {
     "name": "stdout",
     "output_type": "stream",
     "text": [
      "UID    Full Name                            Geodetic Latitude   Geodetic Longitude   Provider\n",
      "=============================================================================================\n",
      "buff   Buffalo Narrows, SK, Canada          55.84               -108.42              UCalgary\n",
      "daws   Dawson City, YK, Canada              64.05               -139.11              UCalgary\n",
      "fsim   Fort Simpson, NWT, Canada            61.76               -121.23              UCalgary\n",
      "gill   Gillam, MB, Canada                   56.38               -94.64               UCalgary\n",
      "isll   Island Lake, MB, Canada              53.86               -94.66               UCalgary\n",
      "mcmu   Fort McMurray, AB, Canada            56.65               -111.22              UCalgary\n",
      "mean   Meanook, AB, Canada                  54.62               -113.35              UCalgary\n",
      "medo   Meadow Lake, SK, Canada              54.13               -108.51              UCalgary\n",
      "nrsq   Narsarsuaq, Greenland                61.16               -45.44               UCalgary\n",
      "pfrr   Poker Flat Research Range, AK, USA   65.13               -147.49              UCalgary\n",
      "pgeo   Prince George, BC, Canada            53.76               -122.85              UCalgary\n",
      "pina   Pinawa, MB, Canada                   50.26               -95.87               UCalgary\n",
      "rabb   Rabbit Lake, SK, Canada              58.23               -103.68              UCalgary\n",
      "russ   Russell, MB, Canada                  50.8                -101.19              UCalgary\n"
     ]
    }
   ],
   "source": [
    "# you can also print all observatories in a table\n",
    "rio.data.list_observatories_in_table(\"swan_hsr\")"
   ]
  },
  {
   "cell_type": "code",
   "execution_count": null,
   "metadata": {},
   "outputs": [],
   "source": []
  }
 ],
 "metadata": {
  "kernelspec": {
   "display_name": "pyucrio39",
   "language": "python",
   "name": "python3"
  },
  "language_info": {
   "codemirror_mode": {
    "name": "ipython",
    "version": 3
   },
   "file_extension": ".py",
   "mimetype": "text/x-python",
   "name": "python",
   "nbconvert_exporter": "python",
   "pygments_lexer": "ipython3",
   "version": "3.9.20"
  }
 },
 "nbformat": 4,
 "nbformat_minor": 2
}
